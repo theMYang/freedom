{
 "cells": [
  {
   "cell_type": "code",
   "execution_count": 14,
   "metadata": {},
   "outputs": [
    {
     "name": "stdout",
     "output_type": "stream",
     "text": [
      "The autoreload extension is already loaded. To reload it, use:\n",
      "  %reload_ext autoreload\n"
     ]
    }
   ],
   "source": [
    "import gc\n",
    "from copy import deepcopy\n",
    "import numpy as np\n",
    "import pandas as pd\n",
    "\n",
    "import matplotlib.pyplot as plt\n",
    "from sklearn.model_selection import train_test_split\n",
    "from keras.preprocessing.image import ImageDataGenerator\n",
    "from keras.callbacks import ReduceLROnPlateau, LearningRateScheduler, TensorBoard\n",
    "from keras import backend as K\n",
    "\n",
    "from libs.util import random_mask\n",
    "from libs.pconv_model_first_resid import PConvUnet\n",
    "# from libs.pconv_model_UNet import PConvUnet\n",
    "from libs.properties import properties\n",
    "\n",
    "# Settings\n",
    "MAX_BATCH_SIZE = 32\n",
    "\n",
    "%matplotlib inline\n",
    "%load_ext autoreload\n",
    "%autoreload 2"
   ]
  },
  {
   "cell_type": "code",
   "execution_count": 15,
   "metadata": {},
   "outputs": [],
   "source": [
    "properties_dict = properties()\n",
    "length = properties_dict[\"length\"]"
   ]
  },
  {
   "cell_type": "code",
   "execution_count": 16,
   "metadata": {},
   "outputs": [],
   "source": [
    "matrix_df = pd.read_csv('./data/trafficV_M.csv', index_col=0, parse_dates=True)"
   ]
  },
  {
   "cell_type": "code",
   "execution_count": 17,
   "metadata": {},
   "outputs": [],
   "source": [
    "# matrix_df = np.array(matrix_df)\n",
    "\n",
    "# print(matrix_df.shape)\n",
    "# print(\"%d bytes\" % (matrix_df.size * matrix_df.itemsize))\n",
    "# print(np.isnan(matrix_df).sum())"
   ]
  },
  {
   "cell_type": "code",
   "execution_count": 18,
   "metadata": {},
   "outputs": [],
   "source": [
    "# # 单独测试week_ago, mintue_ago\n",
    "# week_delta = pd.Timedelta(1, unit='W')\n",
    "# minute_delta = pd.Timedelta(15, unit='m')\n",
    "\n",
    "\n",
    "# channel_num = 3\n",
    "# smooth_time = channel_num-1\n",
    "# set_up_time = week_delta\n",
    "\n",
    "# train_df = matrix_df.truncate(before=matrix_df.index.min() + set_up_time)\n",
    "# train_week_ago_df = matrix_df.loc[train_df.index - week_delta]\n",
    "# train_minute_ago_df = matrix_df.loc[train_df.index - minute_delta]\n",
    "\n",
    "# train_df = np.array(train_df).reshape(-1, length, length, 1)\n",
    "# train_week_ago_df = np.array(train_week_ago_df).reshape(-1, length, length, 1)\n",
    "# train_minute_ago_df = np.array(train_minute_ago_df).reshape(-1, length, length, 1)\n",
    "\n",
    "\n",
    "# train_array = np.concatenate((train_df, train_minute_ago_df, train_week_ago_df), axis=3)\n",
    "# X_train, X_val = train_test_split(train_array, test_size = 0.1, random_state=42)"
   ]
  },
  {
   "cell_type": "code",
   "execution_count": 19,
   "metadata": {},
   "outputs": [],
   "source": [
    "def createTrainArray(week_history_num=0, minute_history_num=0):\n",
    "    week_delta_list = [pd.Timedelta(i+1, unit='W') for i in range(week_history_num)]\n",
    "    minute_delta_list = [pd.Timedelta((i+1)*15, unit='m') for i in range(minute_history_num)]\n",
    "    delta_list = week_delta_list+minute_delta_list\n",
    "    print(delta_list)\n",
    "    \n",
    "    set_up_time = pd.Timedelta(week_history_num, unit='W')\n",
    "    train_df = matrix_df.truncate(before=matrix_df.index.min() + set_up_time)\n",
    "    \n",
    "    train_ago_array_tuple = tuple([np.array(matrix_df.loc[train_df.index - i]).reshape(-1, length, length, 1) for i in delta_list])\n",
    "    train_df = np.array(train_df).reshape(-1, length, length, 1)\n",
    "    train_array = np.concatenate((train_df,)+train_ago_array_tuple, axis=3)\n",
    "    print(train_array.shape)\n",
    "    return train_array"
   ]
  },
  {
   "cell_type": "code",
   "execution_count": 20,
   "metadata": {},
   "outputs": [
    {
     "name": "stdout",
     "output_type": "stream",
     "text": [
      "[Timedelta('7 days 00:00:00'), Timedelta('0 days 00:15:00')]\n",
      "(16704, 32, 32, 3)\n"
     ]
    }
   ],
   "source": [
    "week_history_num = 1\n",
    "minute_history_num = 1\n",
    "\n",
    "channel_num = week_history_num +minute_history_num +1\n",
    "smooth_time = channel_num-1\n",
    "\n",
    "train_array = createTrainArray(week_history_num, minute_history_num)\n",
    "X_train, X_val = train_test_split(train_array, test_size = 0.1, random_state=42)"
   ]
  },
  {
   "cell_type": "code",
   "execution_count": 21,
   "metadata": {},
   "outputs": [
    {
     "data": {
      "text/plain": [
       "(469, 52)"
      ]
     },
     "execution_count": 21,
     "metadata": {},
     "output_type": "execute_result"
    }
   ],
   "source": [
    "epoch_steps = X_train.shape[0] // MAX_BATCH_SIZE\n",
    "val_steps = X_val.shape[0] // MAX_BATCH_SIZE\n",
    "epoch_steps, val_steps"
   ]
  },
  {
   "cell_type": "code",
   "execution_count": 22,
   "metadata": {},
   "outputs": [],
   "source": [
    "class DataGenerator(ImageDataGenerator):\n",
    "    def flow(self, X, *args, **kwargs):\n",
    "        while True:\n",
    "            \n",
    "            # Get augmentend image samples\n",
    "            ori = next(super().flow(X, *args, **kwargs))\n",
    "    \n",
    "            # Get masks for each image sample\n",
    "            mask = np.stack([random_mask(ori.shape[1], ori.shape[2], size=0.1, channels=channel_num, smooth_time=smooth_time) for _ in range(ori.shape[0])], axis=0)\n",
    "\n",
    "            # Apply masks to all image sample\n",
    "            masked = deepcopy(ori)\n",
    "#             print(masked.shape)\n",
    "            masked_mean = masked[mask==1].mean()\n",
    "            masked[mask==0] = masked_mean\n",
    "\n",
    "            # Yield ([ori, masl],  ori) training batches\n",
    "#             print(masked.shape, ori.shape)\n",
    "            gc.collect()\n",
    "            yield [masked, mask], ori[:,:,:,:1]\n",
    "            \n",
    "train_datagen = DataGenerator()\n",
    "train_generator = train_datagen.flow(\n",
    "    X_train, batch_size=MAX_BATCH_SIZE\n",
    ")\n",
    "\n",
    "# Create validation generator\n",
    "val_datagen = DataGenerator()\n",
    "val_generator = val_datagen.flow(\n",
    "    X_val, batch_size=MAX_BATCH_SIZE\n",
    ")\n"
   ]
  },
  {
   "cell_type": "code",
   "execution_count": 23,
   "metadata": {},
   "outputs": [],
   "source": [
    "# np.array(next(train_generator)[1])[:,:,:,:1].shape\n",
    "# reduce_lr = ReduceLROnPlateau(monitor='val_loss', patience=1, mode='auto')"
   ]
  },
  {
   "cell_type": "code",
   "execution_count": 24,
   "metadata": {},
   "outputs": [],
   "source": [
    "model = PConvUnet(img_rows=length, img_cols=length, channels=channel_num)\n",
    "optimizer = model.get_optimizer()\n",
    "def scheduler(epoch):\n",
    "    if epoch>4 and epoch % 1 == 0 and epoch != 0:\n",
    "        lr = K.get_value(optimizer.lr)\n",
    "        if lr>0.00005:\n",
    "            if epoch%4==0:\n",
    "                K.set_value(optimizer.lr, lr * 0.6)\n",
    "            else:\n",
    "                K.set_value(optimizer.lr, lr * 0.8)\n",
    "        print(K.get_value(optimizer.lr))\n",
    "    return K.get_value(optimizer.lr)\n",
    "\n",
    "reduce_lr = LearningRateScheduler(scheduler)"
   ]
  },
  {
   "cell_type": "code",
   "execution_count": 25,
   "metadata": {
    "scrolled": false
   },
   "outputs": [
    {
     "name": "stdout",
     "output_type": "stream",
     "text": [
      "Epoch 1/1\n",
      "469/469 [==============================] - 162s 346ms/step - loss: 184850.4063 - val_loss: 69798.6367\n",
      "Epoch 2/2\n",
      "469/469 [==============================] - 157s 334ms/step - loss: 62540.2015 - val_loss: 49132.1752\n",
      "Epoch 3/3\n",
      "469/469 [==============================] - 158s 337ms/step - loss: 47084.6154 - val_loss: 46334.8948\n",
      "Epoch 4/4\n",
      "469/469 [==============================] - 159s 339ms/step - loss: 40081.4685 - val_loss: 48624.9859\n",
      "Epoch 5/5\n",
      "469/469 [==============================] - 156s 333ms/step - loss: 36084.9147 - val_loss: 57562.3084\n",
      "Epoch 6/6\n",
      "469/469 [==============================] - 156s 332ms/step - loss: 38334.7781 - val_loss: 47030.1870\n",
      "Epoch 7/7\n",
      "469/469 [==============================] - 158s 336ms/step - loss: 36321.7147 - val_loss: 40004.6405\n",
      "Epoch 8/8\n",
      "469/469 [==============================] - 155s 330ms/step - loss: 35335.0678 - val_loss: 37306.7769\n",
      "Epoch 9/9\n",
      "469/469 [==============================] - 168s 358ms/step - loss: 32858.1132 - val_loss: 31847.1479\n",
      "Epoch 10/10\n",
      "469/469 [==============================] - 163s 348ms/step - loss: 31211.2177 - val_loss: 29008.0118\n"
     ]
    }
   ],
   "source": [
    "model.fit(\n",
    "    train_generator, \n",
    "    validation_data=val_generator,\n",
    "    steps_per_epoch = epoch_steps,\n",
    "    validation_steps = val_steps,\n",
    "    epochs = 10,\n",
    "    callbacks=[reduce_lr]\n",
    ")"
   ]
  },
  {
   "cell_type": "code",
   "execution_count": 26,
   "metadata": {
    "scrolled": true
   },
   "outputs": [
    {
     "name": "stdout",
     "output_type": "stream",
     "text": [
      "__________________________________________________________________________________________________\n",
      "Layer (type)                    Output Shape         Param #     Connected to                     \n",
      "==================================================================================================\n",
      "input_3 (InputLayer)            (None, 32, 32, 3)    0                                            \n",
      "__________________________________________________________________________________________________\n",
      "conv2d_20 (Conv2D)              (None, 32, 32, 32)   896         input_3[0][0]                    \n",
      "__________________________________________________________________________________________________\n",
      "activation_22 (Activation)      (None, 32, 32, 32)   0           conv2d_20[0][0]                  \n",
      "__________________________________________________________________________________________________\n",
      "average_pooling2d_4 (AveragePoo (None, 16, 16, 32)   0           activation_22[0][0]              \n",
      "__________________________________________________________________________________________________\n",
      "batch_normalization_15 (BatchNo (None, 16, 16, 32)   128         average_pooling2d_4[0][0]        \n",
      "__________________________________________________________________________________________________\n",
      "activation_23 (Activation)      (None, 16, 16, 32)   0           batch_normalization_15[0][0]     \n",
      "__________________________________________________________________________________________________\n",
      "conv2d_21 (Conv2D)              (None, 16, 16, 32)   9248        activation_23[0][0]              \n",
      "__________________________________________________________________________________________________\n",
      "batch_normalization_16 (BatchNo (None, 16, 16, 32)   128         conv2d_21[0][0]                  \n",
      "__________________________________________________________________________________________________\n",
      "activation_24 (Activation)      (None, 16, 16, 32)   0           batch_normalization_16[0][0]     \n",
      "__________________________________________________________________________________________________\n",
      "conv2d_22 (Conv2D)              (None, 16, 16, 32)   9248        activation_24[0][0]              \n",
      "__________________________________________________________________________________________________\n",
      "add_7 (Add)                     (None, 16, 16, 32)   0           conv2d_22[0][0]                  \n",
      "                                                                 average_pooling2d_4[0][0]        \n",
      "__________________________________________________________________________________________________\n",
      "activation_25 (Activation)      (None, 16, 16, 32)   0           add_7[0][0]                      \n",
      "__________________________________________________________________________________________________\n",
      "conv2d_23 (Conv2D)              (None, 16, 16, 64)   18496       activation_25[0][0]              \n",
      "__________________________________________________________________________________________________\n",
      "EncBN1 (BatchNormalization)     (None, 16, 16, 64)   256         conv2d_23[0][0]                  \n",
      "__________________________________________________________________________________________________\n",
      "activation_26 (Activation)      (None, 16, 16, 64)   0           EncBN1[0][0]                     \n",
      "__________________________________________________________________________________________________\n",
      "average_pooling2d_5 (AveragePoo (None, 8, 8, 64)     0           activation_26[0][0]              \n",
      "__________________________________________________________________________________________________\n",
      "batch_normalization_17 (BatchNo (None, 8, 8, 64)     256         average_pooling2d_5[0][0]        \n",
      "__________________________________________________________________________________________________\n",
      "activation_27 (Activation)      (None, 8, 8, 64)     0           batch_normalization_17[0][0]     \n",
      "__________________________________________________________________________________________________\n",
      "conv2d_24 (Conv2D)              (None, 8, 8, 64)     36928       activation_27[0][0]              \n",
      "__________________________________________________________________________________________________\n",
      "batch_normalization_18 (BatchNo (None, 8, 8, 64)     256         conv2d_24[0][0]                  \n",
      "__________________________________________________________________________________________________\n",
      "activation_28 (Activation)      (None, 8, 8, 64)     0           batch_normalization_18[0][0]     \n",
      "__________________________________________________________________________________________________\n",
      "conv2d_25 (Conv2D)              (None, 8, 8, 64)     36928       activation_28[0][0]              \n",
      "__________________________________________________________________________________________________\n",
      "add_8 (Add)                     (None, 8, 8, 64)     0           conv2d_25[0][0]                  \n",
      "                                                                 average_pooling2d_5[0][0]        \n",
      "__________________________________________________________________________________________________\n",
      "activation_29 (Activation)      (None, 8, 8, 64)     0           add_8[0][0]                      \n",
      "__________________________________________________________________________________________________\n",
      "conv2d_26 (Conv2D)              (None, 8, 8, 96)     55392       activation_29[0][0]              \n",
      "__________________________________________________________________________________________________\n",
      "EncBN2 (BatchNormalization)     (None, 8, 8, 96)     384         conv2d_26[0][0]                  \n",
      "__________________________________________________________________________________________________\n",
      "activation_30 (Activation)      (None, 8, 8, 96)     0           EncBN2[0][0]                     \n",
      "__________________________________________________________________________________________________\n",
      "average_pooling2d_6 (AveragePoo (None, 4, 4, 96)     0           activation_30[0][0]              \n",
      "__________________________________________________________________________________________________\n",
      "batch_normalization_19 (BatchNo (None, 4, 4, 96)     384         average_pooling2d_6[0][0]        \n",
      "__________________________________________________________________________________________________\n",
      "activation_31 (Activation)      (None, 4, 4, 96)     0           batch_normalization_19[0][0]     \n",
      "__________________________________________________________________________________________________\n",
      "conv2d_27 (Conv2D)              (None, 4, 4, 96)     83040       activation_31[0][0]              \n",
      "__________________________________________________________________________________________________\n",
      "batch_normalization_20 (BatchNo (None, 4, 4, 96)     384         conv2d_27[0][0]                  \n",
      "__________________________________________________________________________________________________\n",
      "activation_32 (Activation)      (None, 4, 4, 96)     0           batch_normalization_20[0][0]     \n",
      "__________________________________________________________________________________________________\n",
      "conv2d_28 (Conv2D)              (None, 4, 4, 96)     83040       activation_32[0][0]              \n",
      "__________________________________________________________________________________________________\n",
      "add_9 (Add)                     (None, 4, 4, 96)     0           conv2d_28[0][0]                  \n",
      "                                                                 average_pooling2d_6[0][0]        \n",
      "__________________________________________________________________________________________________\n",
      "activation_33 (Activation)      (None, 4, 4, 96)     0           add_9[0][0]                      \n",
      "__________________________________________________________________________________________________\n",
      "up_sampling2d_4 (UpSampling2D)  (None, 8, 8, 96)     0           activation_33[0][0]              \n",
      "__________________________________________________________________________________________________\n",
      "subtract_4 (Subtract)           (None, 8, 8, 96)     0           conv2d_26[0][0]                  \n",
      "                                                                 up_sampling2d_4[0][0]            \n",
      "__________________________________________________________________________________________________\n",
      "concatenate_4 (Concatenate)     (None, 8, 8, 160)    0           activation_29[0][0]              \n",
      "                                                                 subtract_4[0][0]                 \n",
      "__________________________________________________________________________________________________\n",
      "conv2d_29 (Conv2D)              (None, 8, 8, 64)     92224       concatenate_4[0][0]              \n",
      "__________________________________________________________________________________________________\n",
      "batch_normalization_21 (BatchNo (None, 8, 8, 64)     256         conv2d_29[0][0]                  \n",
      "__________________________________________________________________________________________________\n",
      "leaky_re_lu_4 (LeakyReLU)       (None, 8, 8, 64)     0           batch_normalization_21[0][0]     \n",
      "__________________________________________________________________________________________________\n",
      "batch_normalization_22 (BatchNo (None, 8, 8, 64)     256         leaky_re_lu_4[0][0]              \n",
      "__________________________________________________________________________________________________\n",
      "activation_34 (Activation)      (None, 8, 8, 64)     0           batch_normalization_22[0][0]     \n",
      "__________________________________________________________________________________________________\n",
      "conv2d_30 (Conv2D)              (None, 8, 8, 64)     36928       activation_34[0][0]              \n",
      "__________________________________________________________________________________________________\n",
      "batch_normalization_23 (BatchNo (None, 8, 8, 64)     256         conv2d_30[0][0]                  \n",
      "__________________________________________________________________________________________________\n",
      "activation_35 (Activation)      (None, 8, 8, 64)     0           batch_normalization_23[0][0]     \n",
      "__________________________________________________________________________________________________\n",
      "conv2d_31 (Conv2D)              (None, 8, 8, 64)     36928       activation_35[0][0]              \n",
      "__________________________________________________________________________________________________\n",
      "add_10 (Add)                    (None, 8, 8, 64)     0           conv2d_31[0][0]                  \n",
      "                                                                 leaky_re_lu_4[0][0]              \n",
      "__________________________________________________________________________________________________\n",
      "activation_36 (Activation)      (None, 8, 8, 64)     0           add_10[0][0]                     \n",
      "__________________________________________________________________________________________________\n",
      "up_sampling2d_5 (UpSampling2D)  (None, 16, 16, 64)   0           activation_36[0][0]              \n",
      "__________________________________________________________________________________________________\n",
      "subtract_5 (Subtract)           (None, 16, 16, 64)   0           up_sampling2d_5[0][0]            \n",
      "                                                                 conv2d_23[0][0]                  \n",
      "__________________________________________________________________________________________________\n",
      "concatenate_5 (Concatenate)     (None, 16, 16, 96)   0           activation_25[0][0]              \n",
      "                                                                 subtract_5[0][0]                 \n",
      "__________________________________________________________________________________________________\n",
      "conv2d_32 (Conv2D)              (None, 16, 16, 32)   27680       concatenate_5[0][0]              \n",
      "__________________________________________________________________________________________________\n",
      "batch_normalization_24 (BatchNo (None, 16, 16, 32)   128         conv2d_32[0][0]                  \n",
      "__________________________________________________________________________________________________\n",
      "leaky_re_lu_5 (LeakyReLU)       (None, 16, 16, 32)   0           batch_normalization_24[0][0]     \n",
      "__________________________________________________________________________________________________\n",
      "batch_normalization_25 (BatchNo (None, 16, 16, 32)   128         leaky_re_lu_5[0][0]              \n",
      "__________________________________________________________________________________________________\n",
      "activation_37 (Activation)      (None, 16, 16, 32)   0           batch_normalization_25[0][0]     \n",
      "__________________________________________________________________________________________________\n",
      "conv2d_33 (Conv2D)              (None, 16, 16, 32)   9248        activation_37[0][0]              \n",
      "__________________________________________________________________________________________________\n",
      "batch_normalization_26 (BatchNo (None, 16, 16, 32)   128         conv2d_33[0][0]                  \n",
      "__________________________________________________________________________________________________\n",
      "activation_38 (Activation)      (None, 16, 16, 32)   0           batch_normalization_26[0][0]     \n",
      "__________________________________________________________________________________________________\n",
      "conv2d_34 (Conv2D)              (None, 16, 16, 32)   9248        activation_38[0][0]              \n",
      "__________________________________________________________________________________________________\n",
      "add_11 (Add)                    (None, 16, 16, 32)   0           conv2d_34[0][0]                  \n",
      "                                                                 leaky_re_lu_5[0][0]              \n",
      "__________________________________________________________________________________________________\n",
      "activation_39 (Activation)      (None, 16, 16, 32)   0           add_11[0][0]                     \n",
      "__________________________________________________________________________________________________\n",
      "up_sampling2d_6 (UpSampling2D)  (None, 32, 32, 32)   0           activation_39[0][0]              \n",
      "__________________________________________________________________________________________________\n",
      "subtract_6 (Subtract)           (None, 32, 32, 32)   0           up_sampling2d_6[0][0]            \n",
      "                                                                 conv2d_20[0][0]                  \n",
      "__________________________________________________________________________________________________\n",
      "concatenate_6 (Concatenate)     (None, 32, 32, 35)   0           input_3[0][0]                    \n",
      "                                                                 subtract_6[0][0]                 \n",
      "__________________________________________________________________________________________________\n",
      "conv2d_35 (Conv2D)              (None, 32, 32, 16)   5056        concatenate_6[0][0]              \n",
      "__________________________________________________________________________________________________\n",
      "leaky_re_lu_6 (LeakyReLU)       (None, 32, 32, 16)   0           conv2d_35[0][0]                  \n",
      "__________________________________________________________________________________________________\n",
      "batch_normalization_27 (BatchNo (None, 32, 32, 16)   64          leaky_re_lu_6[0][0]              \n",
      "__________________________________________________________________________________________________\n",
      "activation_40 (Activation)      (None, 32, 32, 16)   0           batch_normalization_27[0][0]     \n",
      "__________________________________________________________________________________________________\n",
      "conv2d_36 (Conv2D)              (None, 32, 32, 16)   2320        activation_40[0][0]              \n",
      "__________________________________________________________________________________________________\n",
      "batch_normalization_28 (BatchNo (None, 32, 32, 16)   64          conv2d_36[0][0]                  \n",
      "__________________________________________________________________________________________________\n",
      "activation_41 (Activation)      (None, 32, 32, 16)   0           batch_normalization_28[0][0]     \n",
      "__________________________________________________________________________________________________\n",
      "conv2d_37 (Conv2D)              (None, 32, 32, 16)   2320        activation_41[0][0]              \n",
      "__________________________________________________________________________________________________\n",
      "add_12 (Add)                    (None, 32, 32, 16)   0           conv2d_37[0][0]                  \n",
      "                                                                 leaky_re_lu_6[0][0]              \n",
      "__________________________________________________________________________________________________\n",
      "activation_42 (Activation)      (None, 32, 32, 16)   0           add_12[0][0]                     \n",
      "__________________________________________________________________________________________________\n",
      "conv2d_38 (Conv2D)              (None, 32, 32, 1)    17          activation_42[0][0]              \n",
      "==================================================================================================\n",
      "Total params: 558,641\n",
      "Trainable params: 556,913\n",
      "Non-trainable params: 1,728\n",
      "__________________________________________________________________________________________________\n",
      "None\n"
     ]
    }
   ],
   "source": [
    "model.summary()"
   ]
  },
  {
   "cell_type": "code",
   "execution_count": 27,
   "metadata": {},
   "outputs": [
    {
     "data": {
      "text/plain": [
       "[29866.466796875,\n",
       " 29756.130859375,\n",
       " 32095.291015625,\n",
       " 32980.4765625,\n",
       " 34254.5390625,\n",
       " 19021.845703125,\n",
       " 22009.587890625,\n",
       " 31336.501953125,\n",
       " 32061.24609375,\n",
       " 52621.02734375,\n",
       " 34077.38671875,\n",
       " 32432.255859375,\n",
       " 22884.337890625,\n",
       " 29583.81640625,\n",
       " 20183.080078125,\n",
       " 35903.59765625,\n",
       " 39241.08203125,\n",
       " 31345.28125,\n",
       " 22352.521484375,\n",
       " 43236.73046875]"
      ]
     },
     "execution_count": 27,
     "metadata": {},
     "output_type": "execute_result"
    }
   ],
   "source": [
    "list = []\n",
    "for _ in range(20):\n",
    "    list.append(model.evaluate_generator(val_generator, 1))\n",
    "list\n",
    "# model.evaluate_generator(val_generator, 100)"
   ]
  },
  {
   "cell_type": "code",
   "execution_count": 28,
   "metadata": {},
   "outputs": [],
   "source": [
    "# import random\n",
    "# test_num = random.randint(0, 200)\n",
    "# test = deepcopy(X_train[test_num,np.newaxis,:])\n",
    "\n",
    "# test_mask = random_mask(test.shape[1], test.shape[2], size=0.1, channels=channel_num, smooth_time=smooth_time)\n",
    "# test_mask = test_mask[np.newaxis,:]\n",
    "\n",
    "# test_mask[0,:,:,0].shape\n",
    "# test[test_mask==0] = test.mean()\n",
    "\n",
    "# # test_mask.shape\n",
    "# # plt.imshow(test[0,:,:,0]*255)\n",
    "# test_res = model.predict([test, test_mask])\n",
    "# # np.sum((test-test_res)**2)\n",
    "# np.sum((test[0,:,:,0][test_mask[0,:,:,0] == 0] - test_res[0,:,:,0][test_mask[0,:,:,0] == 0])**2)"
   ]
  }
 ],
 "metadata": {
  "kernelspec": {
   "display_name": "Python 3",
   "language": "python",
   "name": "python3"
  },
  "language_info": {
   "codemirror_mode": {
    "name": "ipython",
    "version": 3
   },
   "file_extension": ".py",
   "mimetype": "text/x-python",
   "name": "python",
   "nbconvert_exporter": "python",
   "pygments_lexer": "ipython3",
   "version": "3.6.4"
  }
 },
 "nbformat": 4,
 "nbformat_minor": 2
}
