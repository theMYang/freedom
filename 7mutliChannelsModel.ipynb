{
 "cells": [
  {
   "cell_type": "code",
   "execution_count": 85,
   "metadata": {},
   "outputs": [
    {
     "name": "stdout",
     "output_type": "stream",
     "text": [
      "The autoreload extension is already loaded. To reload it, use:\n",
      "  %reload_ext autoreload\n"
     ]
    }
   ],
   "source": [
    "import gc\n",
    "from copy import deepcopy\n",
    "import numpy as np\n",
    "import pandas as pd\n",
    "\n",
    "import matplotlib.pyplot as plt\n",
    "from sklearn.model_selection import train_test_split\n",
    "from keras.preprocessing.image import ImageDataGenerator\n",
    "from keras.callbacks import ReduceLROnPlateau, LearningRateScheduler, TensorBoard\n",
    "from keras import backend as K\n",
    "\n",
    "from libs.util import random_mask\n",
    "# from libs.pconv_model_first_resid import PConvUnet\n",
    "# from libs.pconv_model_UNet import PConvUnet\n",
    "from libs.pconv_model_first_resid_bak import PConvUnet\n",
    "\n",
    "# from libs.pconv_model_UNet import PConvUnet\n",
    "from libs.properties import properties\n",
    "from keras.models import load_model  \n",
    "\n",
    "# Settings\n",
    "MAX_BATCH_SIZE = 32\n",
    "\n",
    "%matplotlib inline\n",
    "%load_ext autoreload\n",
    "%autoreload 2"
   ]
  },
  {
   "cell_type": "code",
   "execution_count": 86,
   "metadata": {},
   "outputs": [],
   "source": [
    "properties_dict = properties()\n",
    "length = properties_dict[\"length\"]"
   ]
  },
  {
   "cell_type": "code",
   "execution_count": 87,
   "metadata": {},
   "outputs": [],
   "source": [
    "matrix_df = pd.read_csv('./data/trafficV_M.csv', index_col=0, parse_dates=True)"
   ]
  },
  {
   "cell_type": "code",
   "execution_count": 88,
   "metadata": {},
   "outputs": [],
   "source": [
    "# matrix_df = np.array(matrix_df)\n",
    "\n",
    "# print(matrix_df.shape)\n",
    "# print(\"%d bytes\" % (matrix_df.size * matrix_df.itemsize))\n",
    "# print(np.isnan(matrix_df).sum())"
   ]
  },
  {
   "cell_type": "code",
   "execution_count": 89,
   "metadata": {},
   "outputs": [],
   "source": [
    "# # 单独测试week_ago, mintue_ago\n",
    "# week_delta = pd.Timedelta(1, unit='W')\n",
    "# minute_delta = pd.Timedelta(15, unit='m')\n",
    "\n",
    "\n",
    "# channel_num = 3\n",
    "# smooth_time = channel_num-1\n",
    "# set_up_time = week_delta\n",
    "\n",
    "# train_df = matrix_df.truncate(before=matrix_df.index.min() + set_up_time)\n",
    "# train_week_ago_df = matrix_df.loc[train_df.index - week_delta]\n",
    "# train_minute_ago_df = matrix_df.loc[train_df.index - minute_delta]\n",
    "\n",
    "# train_df = np.array(train_df).reshape(-1, length, length, 1)\n",
    "# train_week_ago_df = np.array(train_week_ago_df).reshape(-1, length, length, 1)\n",
    "# train_minute_ago_df = np.array(train_minute_ago_df).reshape(-1, length, length, 1)\n",
    "\n",
    "\n",
    "# train_array = np.concatenate((train_df, train_minute_ago_df, train_week_ago_df), axis=3)\n",
    "# X_train, X_val = train_test_split(train_array, test_size = 0.1, random_state=42)"
   ]
  },
  {
   "cell_type": "code",
   "execution_count": 90,
   "metadata": {},
   "outputs": [],
   "source": [
    "def createTrainArray(week_history_num=0, minute_history_num=0):\n",
    "    week_delta_list = [pd.Timedelta(i+1, unit='W') for i in range(week_history_num)]\n",
    "    minute_delta_list = [pd.Timedelta((i+1)*15, unit='m') for i in range(minute_history_num)]\n",
    "    # 参考历史数据时间点list\n",
    "    delta_list = week_delta_list+minute_delta_list\n",
    "    print(delta_list)\n",
    "    \n",
    "    set_up_time = pd.Timedelta(week_history_num, unit='W')\n",
    "    # 根据历史数据选取多少，重新构建数据集\n",
    "    train_df = matrix_df.truncate(before=matrix_df.index.min() + set_up_time)\n",
    "    \n",
    "    train_ago_array_tuple = tuple([np.array(matrix_df.loc[train_df.index - i]).reshape(-1, length, length, 1) for i in delta_list])\n",
    "    train_df = np.array(train_df).reshape(-1, length, length, 1)\n",
    "    # concatenate保持 待修复数据在前，参考历史数据在后。与random_mask函数生成mask相一致\n",
    "    train_array = np.concatenate((train_df,)+train_ago_array_tuple, axis=3)\n",
    "    print(train_array.shape)\n",
    "    return train_array"
   ]
  },
  {
   "cell_type": "code",
   "execution_count": 91,
   "metadata": {},
   "outputs": [
    {
     "name": "stdout",
     "output_type": "stream",
     "text": [
      "[Timedelta('7 days 00:00:00'), Timedelta('0 days 00:15:00')]\n",
      "(16704, 32, 32, 3)\n"
     ]
    }
   ],
   "source": [
    "week_history_num = 1\n",
    "minute_history_num = 1\n",
    "\n",
    "channel_num = week_history_num +minute_history_num +1\n",
    "smooth_time = channel_num-1\n",
    "\n",
    "train_array = createTrainArray(week_history_num, minute_history_num)\n",
    "X_train, X_val = train_test_split(train_array, test_size = 0.1, random_state=42)"
   ]
  },
  {
   "cell_type": "code",
   "execution_count": 92,
   "metadata": {},
   "outputs": [
    {
     "data": {
      "text/plain": [
       "(469, 52)"
      ]
     },
     "execution_count": 92,
     "metadata": {},
     "output_type": "execute_result"
    }
   ],
   "source": [
    "epoch_steps = X_train.shape[0] // MAX_BATCH_SIZE\n",
    "val_steps = X_val.shape[0] // MAX_BATCH_SIZE\n",
    "epoch_steps, val_steps"
   ]
  },
  {
   "cell_type": "code",
   "execution_count": 93,
   "metadata": {},
   "outputs": [],
   "source": [
    "rand_size = 25\n",
    "block_size = (30, 30)\n",
    "mask_type = 'rand'\n",
    "class DataGenerator(ImageDataGenerator):\n",
    "    def flow(self, X, *args, **kwargs):\n",
    "        i = 1\n",
    "        while True:\n",
    "            \n",
    "            # Get augmentend image samples\n",
    "            ori = next(super().flow(X, *args, **kwargs))\n",
    "\n",
    "            # Get masks for each image sample\n",
    "            mask = np.stack([random_mask(ori.shape[1], ori.shape[2], size=rand_size, channels=channel_num, smooth_time=smooth_time, type=mask_type, block_size=block_size) for _ in range(ori.shape[0])], axis=0)\n",
    "            # Apply masks to all image sample\n",
    "            masked = deepcopy(ori)\n",
    "#             print(masked.shape)\n",
    "            masked_mean = masked[mask==1].mean()\n",
    "            masked[mask==0] = masked_mean\n",
    "\n",
    "            # Yield ([ori, masl],  ori) training batches\n",
    "#             print(masked.shape, ori.shape)\n",
    "            gc.collect()\n",
    "            yield [masked, mask], ori[:,:,:,:1]\n",
    "            \n",
    "train_datagen = DataGenerator()\n",
    "train_generator = train_datagen.flow(\n",
    "    X_train, batch_size=MAX_BATCH_SIZE\n",
    ")\n",
    "\n",
    "# Create validation generator\n",
    "val_datagen = DataGenerator()\n",
    "val_generator = val_datagen.flow(\n",
    "    X_val, batch_size=MAX_BATCH_SIZE\n",
    ")\n"
   ]
  },
  {
   "cell_type": "code",
   "execution_count": 94,
   "metadata": {},
   "outputs": [],
   "source": [
    "# np.array(next(train_generator)[1])[:,:,:,:1].shape\n",
    "# reduce_lr = ReduceLROnPlateau(monitor='val_loss', patience=1, mode='auto')\n",
    "\n",
    "# model = PConvUnet(img_rows=length, img_cols=length, channels=channel_num)\n",
    "# optimizer = model.get_optimizer()\n",
    "# def scheduler(epoch):\n",
    "#     if epoch>1 and epoch % 1 == 0 and epoch != 0:\n",
    "#         lr = K.get_value(optimizer.lr)\n",
    "#         if lr>0.00005:\n",
    "#             if epoch%4==0:\n",
    "#                 K.set_value(optimizer.lr, lr * 0.6)\n",
    "#             else:\n",
    "#                 K.set_value(optimizer.lr, lr * 0.8)\n",
    "#     print(K.get_value(optimizer.lr))\n",
    "#     return K.get_value(optimizer.lr)\n",
    "\n",
    "# reduce_lr = LearningRateScheduler(scheduler)"
   ]
  },
  {
   "cell_type": "code",
   "execution_count": 95,
   "metadata": {},
   "outputs": [],
   "source": [
    "# 手动训练\n",
    "model = PConvUnet(img_rows=length, img_cols=length, channels=channel_num)\n",
    "optimizer = model.get_optimizer()\n",
    "def scheduler(epoch):\n",
    "    if epoch>2 and epoch % 1 == 0 and epoch != 0:\n",
    "        lr = K.get_value(optimizer.lr)\n",
    "        if lr>0.0001:\n",
    "            if epoch%3==0:\n",
    "                K.set_value(optimizer.lr, lr * 0.6)\n",
    "            else:\n",
    "                K.set_value(optimizer.lr, lr * 0.8)\n",
    "    print(K.get_value(optimizer.lr))\n",
    "    return K.get_value(optimizer.lr)\n",
    "\n",
    "reduce_lr = LearningRateScheduler(scheduler)"
   ]
  },
  {
   "cell_type": "code",
   "execution_count": 96,
   "metadata": {
    "scrolled": false
   },
   "outputs": [
    {
     "name": "stdout",
     "output_type": "stream",
     "text": [
      "Epoch 1/1\n",
      "0.004\n",
      "469/469 [==============================] - 285s 608ms/step - loss: 66680.6820 - val_loss: 17853.2116\n",
      "Epoch 2/2\n",
      "0.004\n",
      "469/469 [==============================] - 286s 610ms/step - loss: 16957.3658 - val_loss: 22090.7963\n",
      "Epoch 3/3\n",
      "0.004\n",
      "469/469 [==============================] - 283s 604ms/step - loss: 14555.4837 - val_loss: 27195.4081\n",
      "Epoch 4/4\n",
      "0.0024\n",
      "469/469 [==============================] - 264s 563ms/step - loss: 10584.4221 - val_loss: 11883.5312\n",
      "Epoch 5/5\n",
      "0.0019200001\n",
      "469/469 [==============================] - 295s 630ms/step - loss: 9023.4975 - val_loss: 9732.3724\n",
      "Epoch 6/6\n",
      "0.001536\n",
      "469/469 [==============================] - 292s 622ms/step - loss: 8786.5015 - val_loss: 8790.1870\n",
      "Epoch 7/7\n",
      "0.00092160003\n",
      "469/469 [==============================] - 259s 551ms/step - loss: 7873.0447 - val_loss: 9286.4635\n",
      "Epoch 8/8\n",
      "0.00073728\n",
      "469/469 [==============================] - 261s 557ms/step - loss: 7442.1346 - val_loss: 8765.4812\n",
      "Epoch 9/9\n",
      "0.000589824\n",
      "469/469 [==============================] - 257s 548ms/step - loss: 7338.1077 - val_loss: 7657.0270\n",
      "Epoch 10/10\n",
      "0.0003538944\n",
      "469/469 [==============================] - 277s 590ms/step - loss: 6947.2502 - val_loss: 8138.9332\n",
      "Epoch 11/11\n",
      "0.0002831155\n",
      "469/469 [==============================] - 249s 531ms/step - loss: 6632.8851 - val_loss: 7448.2881\n",
      "Epoch 12/12\n",
      "0.00022649241\n",
      "469/469 [==============================] - 269s 573ms/step - loss: 6600.7643 - val_loss: 8257.2799\n",
      "Epoch 13/13\n",
      "0.00013589545\n",
      "469/469 [==============================] - 271s 577ms/step - loss: 6257.9667 - val_loss: 7706.4852\n",
      "Epoch 14/14\n",
      "0.000108716355\n",
      "469/469 [==============================] - 255s 543ms/step - loss: 6223.4735 - val_loss: 7206.0520\n",
      "Epoch 15/15\n",
      "8.697309e-05\n",
      "469/469 [==============================] - 249s 531ms/step - loss: 6292.4510 - val_loss: 7338.9544\n",
      "Epoch 16/16\n",
      "8.697309e-05\n",
      "469/469 [==============================] - 252s 538ms/step - loss: 6308.5020 - val_loss: 6653.6952\n",
      "Epoch 17/17\n",
      "8.697309e-05\n",
      "469/469 [==============================] - 256s 546ms/step - loss: 5950.5627 - val_loss: 6631.6502\n",
      "Epoch 18/18\n",
      "8.697309e-05\n",
      "469/469 [==============================] - 254s 541ms/step - loss: 6144.5419 - val_loss: 6656.1079\n",
      "Epoch 19/19\n",
      "8.697309e-05\n",
      "469/469 [==============================] - 270s 576ms/step - loss: 6076.8500 - val_loss: 6329.7308\n",
      "Epoch 20/20\n",
      "8.697309e-05\n",
      "469/469 [==============================] - 247s 527ms/step - loss: 6122.8008 - val_loss: 6473.1756\n"
     ]
    }
   ],
   "source": [
    "# 手动训练\n",
    "model.fit(\n",
    "    train_generator, \n",
    "    validation_data=val_generator,\n",
    "    steps_per_epoch = epoch_steps,\n",
    "    validation_steps = val_steps,\n",
    "    epochs = 20,\n",
    "    callbacks=[reduce_lr]\n",
    ")"
   ]
  },
  {
   "cell_type": "code",
   "execution_count": 97,
   "metadata": {
    "scrolled": true
   },
   "outputs": [],
   "source": [
    "model.save_weights('./model/bmodel_weights_random_25_2_20e.h5')\n",
    "# model.load_weights('.model//bmodel_weights_random_25_20e.h5')"
   ]
  },
  {
   "cell_type": "code",
   "execution_count": 98,
   "metadata": {},
   "outputs": [],
   "source": [
    "def l2(y_true, y_pred):\n",
    "    return np.sum(np.mean(np.square(y_true - y_pred), axis=0))\n",
    "\n",
    "def l1(y_true, y_pred):\n",
    "    return np.sum(np.mean(np.abs(y_true - y_pred), axis=0))"
   ]
  },
  {
   "cell_type": "code",
   "execution_count": 115,
   "metadata": {},
   "outputs": [
    {
     "data": {
      "text/plain": [
       "5960.401745867349"
      ]
     },
     "execution_count": 115,
     "metadata": {},
     "output_type": "execute_result"
    }
   ],
   "source": [
    "mask_shape = X_val.shape\n",
    "mask = np.stack([random_mask(mask_shape[1], mask_shape[2], size=rand_size, channels=channel_num, smooth_time=smooth_time, type=mask_type, block_size=block_size) for _ in range(mask_shape[0])], axis=0)\n",
    "\n",
    "masked = deepcopy(X_val)\n",
    "masked_mean = masked[mask==1].mean()\n",
    "masked[mask==0] = masked_mean\n",
    "\n",
    "y_pred = model.predict([masked, mask])\n",
    "y_true = X_val[:,:,:,:1]\n",
    "\n",
    "# 仅对缺失数据进行l2评价\n",
    "y_true = (1-mask[:,:,:,:1])*y_true\n",
    "y_pred = (1-mask[:,:,:,:1])*y_pred\n",
    "\n",
    "l2(y_true, y_pred)"
   ]
  },
  {
   "cell_type": "code",
   "execution_count": 100,
   "metadata": {},
   "outputs": [
    {
     "data": {
      "text/plain": [
       "24.69579624176024"
      ]
     },
     "execution_count": 100,
     "metadata": {},
     "output_type": "execute_result"
    }
   ],
   "source": [
    "np.min(np.sum(np.sum(np.sum(np.abs(y_true - y_pred), axis=3), axis=2), axis=1))"
   ]
  },
  {
   "cell_type": "code",
   "execution_count": 101,
   "metadata": {
    "scrolled": true
   },
   "outputs": [],
   "source": [
    "# model.summary()"
   ]
  },
  {
   "cell_type": "code",
   "execution_count": 102,
   "metadata": {},
   "outputs": [],
   "source": [
    "# list = []\n",
    "# for _ in range(20):\n",
    "#     list.append(model.evaluate_generator(val_generator, 1))\n",
    "# list\n",
    "# # model.evaluate_generator(val_generator, 100)"
   ]
  },
  {
   "cell_type": "code",
   "execution_count": 103,
   "metadata": {},
   "outputs": [],
   "source": [
    "# import random\n",
    "# test_num = random.randint(0, 200)\n",
    "# test = deepcopy(X_train[test_num,np.newaxis,:])\n",
    "\n",
    "# test_mask = random_mask(test.shape[1], test.shape[2], size=0.1, channels=channel_num, smooth_time=smooth_time)\n",
    "# test_mask = test_mask[np.newaxis,:]\n",
    "\n",
    "# test_mask[0,:,:,0].shape\n",
    "# test[test_mask==0] = test.mean()\n",
    "\n",
    "# # test_mask.shape\n",
    "# # plt.imshow(test[0,:,:,0]*255)\n",
    "# test_res = model.predict([test, test_mask])\n",
    "# # np.sum((test-test_res)**2)\n",
    "# np.sum((test[0,:,:,0][test_mask[0,:,:,0] == 0] - test_res[0,:,:,0][test_mask[0,:,:,0] == 0])**2)"
   ]
  }
 ],
 "metadata": {
  "kernelspec": {
   "display_name": "Python 3",
   "language": "python",
   "name": "python3"
  },
  "language_info": {
   "codemirror_mode": {
    "name": "ipython",
    "version": 3
   },
   "file_extension": ".py",
   "mimetype": "text/x-python",
   "name": "python",
   "nbconvert_exporter": "python",
   "pygments_lexer": "ipython3",
   "version": "3.6.4"
  }
 },
 "nbformat": 4,
 "nbformat_minor": 2
}
