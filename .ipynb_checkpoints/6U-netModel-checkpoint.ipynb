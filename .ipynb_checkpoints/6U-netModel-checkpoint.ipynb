{
 "cells": [
  {
   "cell_type": "code",
   "execution_count": 250,
   "metadata": {},
   "outputs": [
    {
     "name": "stdout",
     "output_type": "stream",
     "text": [
      "The autoreload extension is already loaded. To reload it, use:\n",
      "  %reload_ext autoreload\n"
     ]
    }
   ],
   "source": [
    "import gc\n",
    "from copy import deepcopy\n",
    "import numpy as np\n",
    "import pandas as pd\n",
    "\n",
    "import matplotlib.pyplot as plt\n",
    "from sklearn.model_selection import train_test_split\n",
    "from keras.preprocessing.image import ImageDataGenerator\n",
    "\n",
    "from libs.util import random_mask\n",
    "from libs.pconv_model import PConvUnet\n",
    "from libs.properties import properties\n",
    "\n",
    "# Settings\n",
    "MAX_BATCH_SIZE = 32\n",
    "\n",
    "%matplotlib inline\n",
    "%load_ext autoreload\n",
    "%autoreload 2"
   ]
  },
  {
   "cell_type": "code",
   "execution_count": 251,
   "metadata": {},
   "outputs": [],
   "source": [
    "properties_dict = properties()\n",
    "length = properties_dict[\"length\"]"
   ]
  },
  {
   "cell_type": "code",
   "execution_count": 252,
   "metadata": {},
   "outputs": [
    {
     "data": {
      "text/plain": [
       "(2976, 1024)"
      ]
     },
     "execution_count": 252,
     "metadata": {},
     "output_type": "execute_result"
    }
   ],
   "source": [
    "matrix_df = pd.read_csv('./data/trafficV201301_M.csv', index_col=0, parse_dates=True)\n",
    "matrix_df = np.array(matrix_df)\n",
    "matrix_df.shape"
   ]
  },
  {
   "cell_type": "code",
   "execution_count": 253,
   "metadata": {},
   "outputs": [],
   "source": [
    "train_df = matrix_df.reshape(matrix_df.shape[0], length, length,1)\n",
    "X_train, X_val = train_test_split(train_df, test_size = 0.1, random_state=42)"
   ]
  },
  {
   "cell_type": "code",
   "execution_count": 254,
   "metadata": {},
   "outputs": [],
   "source": [
    "class DataGenerator(ImageDataGenerator):\n",
    "    def flow(self, X, *args, **kwargs):\n",
    "        while True:\n",
    "            \n",
    "            # Get augmentend image samples\n",
    "            ori = next(super().flow(X, *args, **kwargs))\n",
    "    \n",
    "            # Get masks for each image sample\n",
    "            mask = np.stack([random_mask(ori.shape[1], ori.shape[2], size=0) for _ in range(ori.shape[0])], axis=0)\n",
    "\n",
    "            # Apply masks to all image sample\n",
    "            masked = deepcopy(ori)\n",
    "            masked[mask==0] = -1\n",
    "\n",
    "            # Yield ([ori, masl],  ori) training batches\n",
    "            # print(masked.shape, ori.shape)\n",
    "            gc.collect()\n",
    "            yield [masked, mask], ori\n",
    "            \n",
    "train_datagen = DataGenerator()\n",
    "train_generator = train_datagen.flow(\n",
    "    X_train, batch_size=MAX_BATCH_SIZE\n",
    ")\n",
    "\n",
    "# Create validation generator\n",
    "val_datagen = DataGenerator()\n",
    "val_generator = val_datagen.flow(\n",
    "    X_val, batch_size=MAX_BATCH_SIZE\n",
    ")"
   ]
  },
  {
   "cell_type": "code",
   "execution_count": 256,
   "metadata": {},
   "outputs": [
    {
     "name": "stdout",
     "output_type": "stream",
     "text": [
      "Epoch 1/1\n",
      "32768\n",
      "32768\n",
      "32768\n",
      "32768\n",
      "32768\n",
      "32768\n",
      "32768\n",
      "32768\n",
      "32768\n",
      "32768\n",
      "32768\n",
      "32768\n",
      "32768\n",
      "32768\n",
      "32768\n",
      "32768\n",
      "32768\n",
      "32768\n",
      "32768\n",
      "32768\n",
      "32768\n",
      " 1/50 [..............................] - ETA: 9:35 - loss: 295400.312532768\n",
      " 2/50 [>.............................] - ETA: 4:53 - loss: 320692.765632768\n",
      " 3/50 [>.............................] - ETA: 3:17 - loss: 341027.812532768\n",
      " 4/50 [=>............................] - ETA: 2:29 - loss: 319920.445332768\n",
      " 6/50 [==>...........................] - ETA: 1:38 - loss: 325115.838532768\n",
      " 7/50 [===>..........................] - ETA: 1:24 - loss: 320108.584832768\n",
      " 8/50 [===>..........................] - ETA: 1:14 - loss: 317914.171932768\n",
      " 9/50 [====>.........................] - ETA: 1:06 - loss: 318724.618132768\n",
      "10/50 [=====>........................] - ETA: 59s - loss: 319511.3906 32768\n",
      "11/50 [=====>........................] - ETA: 54s - loss: 318290.031232768\n",
      "12/50 [======>.......................] - ETA: 49s - loss: 318773.737032768\n",
      "13/50 [======>.......................] - ETA: 45s - loss: 313716.039732768\n",
      "14/50 [=======>......................] - ETA: 42s - loss: 312278.885032768\n",
      "15/50 [========>.....................] - ETA: 39s - loss: 317935.296932768\n",
      "16/50 [========>.....................] - ETA: 36s - loss: 318069.606432768\n",
      "17/50 [=========>....................] - ETA: 34s - loss: 316640.427432768\n",
      "18/50 [=========>....................] - ETA: 32s - loss: 315405.000932768\n",
      "19/50 [==========>...................] - ETA: 30s - loss: 317400.145632768\n",
      "20/50 [===========>..................] - ETA: 28s - loss: 318866.246132768\n",
      "21/50 [===========>..................] - ETA: 26s - loss: 317545.246332768\n",
      "22/50 [============>.................] - ETA: 25s - loss: 319014.671232768\n",
      "23/50 [============>.................] - ETA: 23s - loss: 318785.753432768\n",
      "24/50 [=============>................] - ETA: 22s - loss: 320606.399132768\n",
      "25/50 [==============>...............] - ETA: 20s - loss: 322937.770632768\n",
      "26/50 [==============>...............] - ETA: 19s - loss: 322157.104032768\n",
      "27/50 [===============>..............] - ETA: 18s - loss: 321384.283032768\n",
      "28/50 [===============>..............] - ETA: 17s - loss: 323497.323132768\n",
      "29/50 [================>.............] - ETA: 16s - loss: 321683.229032768\n",
      "30/50 [=================>............] - ETA: 15s - loss: 320637.815132768\n",
      "31/50 [=================>............] - ETA: 14s - loss: 321537.691032768\n",
      "32/50 [==================>...........] - ETA: 13s - loss: 320955.243732768\n",
      "33/50 [==================>...........] - ETA: 12s - loss: 320606.093332768\n",
      "34/50 [===================>..........] - ETA: 11s - loss: 317579.290432768\n",
      "35/50 [====================>.........] - ETA: 10s - loss: 318421.042932768\n",
      "36/50 [====================>.........] - ETA: 9s - loss: 318386.2378 32768\n",
      "37/50 [=====================>........] - ETA: 9s - loss: 317341.625032768\n",
      "38/50 [=====================>........] - ETA: 8s - loss: 317600.750032768\n",
      "39/50 [======================>.......] - ETA: 7s - loss: 318031.747632768\n",
      "40/50 [=======================>......] - ETA: 6s - loss: 319416.471932768\n",
      "41/50 [=======================>......] - ETA: 6s - loss: 319530.190532768\n",
      "42/50 [========================>.....] - ETA: 5s - loss: 318136.253332768\n",
      "43/50 [========================>.....] - ETA: 4s - loss: 317681.759832768\n",
      "44/50 [=========================>....] - ETA: 3s - loss: 318068.157332768\n",
      "45/50 [==========================>...] - ETA: 3s - loss: 319108.731632768\n",
      "46/50 [==========================>...] - ETA: 2s - loss: 318209.766032768\n",
      "47/50 [===========================>..] - ETA: 1s - loss: 318668.430532768\n",
      "48/50 [===========================>..] - ETA: 1s - loss: 317734.646832768\n",
      "49/50 [============================>.] - ETA: 0s - loss: 317629.997132768\n",
      "32768\n",
      "32768\n",
      "32768\n",
      "32768\n",
      "32768\n",
      "32768\n",
      "32768\n",
      "32768\n",
      "32768\n",
      "32768\n",
      "32768\n",
      "32768\n",
      "32768\n",
      "32768\n",
      "32768\n",
      "32768\n",
      "32768\n",
      "32768\n",
      "32768\n",
      "32768\n",
      "32768\n",
      "32768\n",
      "32768\n",
      "32768\n",
      "32768\n",
      "32768\n",
      "32768\n",
      "32768\n",
      "32768\n",
      "32768\n",
      "32768\n",
      "32768\n",
      "32768\n",
      "32768\n",
      "32768\n",
      "32768\n",
      "32768\n",
      "32768\n",
      "32768\n",
      "32768\n",
      "32768\n",
      "32768\n",
      "32768\n",
      "32768\n",
      "32768\n",
      "32768\n",
      "32768\n",
      "32768\n",
      "50/50 [==============================] - 50s 1s/step - loss: 317375.9259 - val_loss: 309231.0125\n",
      "32768\n",
      "32768\n"
     ]
    }
   ],
   "source": [
    "model = PConvUnet()\n",
    "\n",
    "model.fit(\n",
    "    train_generator, \n",
    "    validation_data=val_generator,\n",
    "    steps_per_epoch = 50,\n",
    "    validation_steps=50,\n",
    "    epochs=1\n",
    ")"
   ]
  },
  {
   "cell_type": "code",
   "execution_count": 257,
   "metadata": {},
   "outputs": [
    {
     "data": {
      "text/plain": [
       "177.03925"
      ]
     },
     "execution_count": 257,
     "metadata": {},
     "output_type": "execute_result"
    }
   ],
   "source": [
    "test = X_val[9,np.newaxis,:]\n",
    "\n",
    "test_mask = random_mask(test.shape[1], test.shape[2])\n",
    "test_mask = test_mask[np.newaxis,:]\n",
    "\n",
    "test_mask[0,:,:,0].shape\n",
    "test[test_mask==0] = -1\n",
    "\n",
    "# test_mask.shape\n",
    "# plt.imshow(test[0,:,:,0]*255)\n",
    "\n",
    "test_res = model.predict([test, test_mask])\n",
    "test_res.sum()"
   ]
  },
  {
   "cell_type": "code",
   "execution_count": 258,
   "metadata": {},
   "outputs": [
    {
     "data": {
      "text/plain": [
       "array([[[[6.3336766e-01],\n",
       "         [5.5583358e-01],\n",
       "         [5.3973895e-01],\n",
       "         ...,\n",
       "         [5.7288700e-01],\n",
       "         [5.3796852e-01],\n",
       "         [1.1081165e-01]],\n",
       "\n",
       "        [[6.7021870e-07],\n",
       "         [1.0091960e-10],\n",
       "         [4.8795878e-10],\n",
       "         ...,\n",
       "         [5.5498197e-03],\n",
       "         [1.6098699e-02],\n",
       "         [2.2438752e-02]],\n",
       "\n",
       "        [[2.6856709e-04],\n",
       "         [8.0704112e-13],\n",
       "         [9.0779146e-12],\n",
       "         ...,\n",
       "         [2.2887174e-02],\n",
       "         [5.3930599e-03],\n",
       "         [4.9100653e-03]],\n",
       "\n",
       "        ...,\n",
       "\n",
       "        [[1.3514141e-02],\n",
       "         [7.9915859e-02],\n",
       "         [6.4885080e-02],\n",
       "         ...,\n",
       "         [8.4660989e-01],\n",
       "         [8.3301985e-01],\n",
       "         [6.8189448e-01]],\n",
       "\n",
       "        [[9.0191938e-02],\n",
       "         [1.0811681e-01],\n",
       "         [1.6225349e-02],\n",
       "         ...,\n",
       "         [8.8258755e-01],\n",
       "         [8.1635296e-01],\n",
       "         [7.2080505e-01]],\n",
       "\n",
       "        [[1.2827500e-03],\n",
       "         [6.3185287e-01],\n",
       "         [3.6745891e-01],\n",
       "         ...,\n",
       "         [7.0890480e-01],\n",
       "         [7.2641283e-01],\n",
       "         [6.7274040e-01]]]], dtype=float32)"
      ]
     },
     "execution_count": 258,
     "metadata": {},
     "output_type": "execute_result"
    }
   ],
   "source": [
    "test_res"
   ]
  }
 ],
 "metadata": {
  "kernelspec": {
   "display_name": "Python 3",
   "language": "python",
   "name": "python3"
  },
  "language_info": {
   "codemirror_mode": {
    "name": "ipython",
    "version": 3
   },
   "file_extension": ".py",
   "mimetype": "text/x-python",
   "name": "python",
   "nbconvert_exporter": "python",
   "pygments_lexer": "ipython3",
   "version": "3.6.4"
  }
 },
 "nbformat": 4,
 "nbformat_minor": 2
}
