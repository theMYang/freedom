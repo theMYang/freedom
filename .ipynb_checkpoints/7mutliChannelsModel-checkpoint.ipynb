{
 "cells": [
  {
   "cell_type": "code",
   "execution_count": 59,
   "metadata": {},
   "outputs": [
    {
     "name": "stdout",
     "output_type": "stream",
     "text": [
      "The autoreload extension is already loaded. To reload it, use:\n",
      "  %reload_ext autoreload\n"
     ]
    }
   ],
   "source": [
    "import gc\n",
    "from copy import deepcopy\n",
    "import numpy as np\n",
    "import pandas as pd\n",
    "\n",
    "import matplotlib.pyplot as plt\n",
    "from sklearn.model_selection import train_test_split\n",
    "from keras.preprocessing.image import ImageDataGenerator\n",
    "from keras.callbacks import ReduceLROnPlateau, LearningRateScheduler, TensorBoard\n",
    "from keras import backend as K\n",
    "\n",
    "from libs.util import random_mask\n",
    "# from libs.pconv_model_first_resid import PConvUnet\n",
    "# from libs.pconv_model_UNet import PConvUnet\n",
    "from libs.pconv_model_first_resid_bak import PConvUnet\n",
    "\n",
    "# from libs.pconv_model_UNet import PConvUnet\n",
    "from libs.properties import properties\n",
    "from keras.models import load_model  \n",
    "\n",
    "# Settings\n",
    "MAX_BATCH_SIZE = 32\n",
    "\n",
    "%matplotlib inline\n",
    "%load_ext autoreload\n",
    "%autoreload 2"
   ]
  },
  {
   "cell_type": "code",
   "execution_count": 60,
   "metadata": {},
   "outputs": [],
   "source": [
    "properties_dict = properties()\n",
    "length = properties_dict[\"length\"]"
   ]
  },
  {
   "cell_type": "code",
   "execution_count": 61,
   "metadata": {},
   "outputs": [],
   "source": [
    "matrix_df = pd.read_csv('./data/trafficV_M.csv', index_col=0, parse_dates=True)"
   ]
  },
  {
   "cell_type": "code",
   "execution_count": 62,
   "metadata": {},
   "outputs": [],
   "source": [
    "# matrix_df = np.array(matrix_df)\n",
    "\n",
    "# print(matrix_df.shape)\n",
    "# print(\"%d bytes\" % (matrix_df.size * matrix_df.itemsize))\n",
    "# print(np.isnan(matrix_df).sum())"
   ]
  },
  {
   "cell_type": "code",
   "execution_count": 63,
   "metadata": {},
   "outputs": [],
   "source": [
    "# # 单独测试week_ago, mintue_ago\n",
    "# week_delta = pd.Timedelta(1, unit='W')\n",
    "# minute_delta = pd.Timedelta(15, unit='m')\n",
    "\n",
    "\n",
    "# channel_num = 3\n",
    "# smooth_time = channel_num-1\n",
    "# set_up_time = week_delta\n",
    "\n",
    "# train_df = matrix_df.truncate(before=matrix_df.index.min() + set_up_time)\n",
    "# train_week_ago_df = matrix_df.loc[train_df.index - week_delta]\n",
    "# train_minute_ago_df = matrix_df.loc[train_df.index - minute_delta]\n",
    "\n",
    "# train_df = np.array(train_df).reshape(-1, length, length, 1)\n",
    "# train_week_ago_df = np.array(train_week_ago_df).reshape(-1, length, length, 1)\n",
    "# train_minute_ago_df = np.array(train_minute_ago_df).reshape(-1, length, length, 1)\n",
    "\n",
    "\n",
    "# train_array = np.concatenate((train_df, train_minute_ago_df, train_week_ago_df), axis=3)\n",
    "# X_train, X_val = train_test_split(train_array, test_size = 0.1, random_state=42)"
   ]
  },
  {
   "cell_type": "code",
   "execution_count": 64,
   "metadata": {},
   "outputs": [],
   "source": [
    "def createTrainArray(week_history_num=0, minute_history_num=0):\n",
    "    week_delta_list = [pd.Timedelta(i+1, unit='W') for i in range(week_history_num)]\n",
    "    minute_delta_list = [pd.Timedelta((i+1)*15, unit='m') for i in range(minute_history_num)]\n",
    "    # 参考历史数据时间点list\n",
    "    delta_list = week_delta_list+minute_delta_list\n",
    "    print(delta_list)\n",
    "    \n",
    "    set_up_time = pd.Timedelta(week_history_num, unit='W')\n",
    "    # 根据历史数据选取多少，重新构建数据集\n",
    "    train_df = matrix_df.truncate(before=matrix_df.index.min() + set_up_time)\n",
    "    \n",
    "    train_ago_array_tuple = tuple([np.array(matrix_df.loc[train_df.index - i]).reshape(-1, length, length, 1) for i in delta_list])\n",
    "    train_df = np.array(train_df).reshape(-1, length, length, 1)\n",
    "    # concatenate保持 待修复数据在前，参考历史数据在后。与random_mask函数生成mask相一致\n",
    "    train_array = np.concatenate((train_df,)+train_ago_array_tuple, axis=3)\n",
    "    print(train_array.shape)\n",
    "    return train_array"
   ]
  },
  {
   "cell_type": "code",
   "execution_count": 65,
   "metadata": {},
   "outputs": [
    {
     "name": "stdout",
     "output_type": "stream",
     "text": [
      "[Timedelta('7 days 00:00:00'), Timedelta('0 days 00:15:00')]\n",
      "(16704, 32, 32, 3)\n"
     ]
    }
   ],
   "source": [
    "week_history_num = 1\n",
    "minute_history_num = 1\n",
    "\n",
    "channel_num = week_history_num +minute_history_num +1\n",
    "smooth_time = channel_num-1\n",
    "\n",
    "train_array = createTrainArray(week_history_num, minute_history_num)\n",
    "X_train, X_val = train_test_split(train_array, test_size = 0.1, random_state=42)"
   ]
  },
  {
   "cell_type": "code",
   "execution_count": 66,
   "metadata": {},
   "outputs": [
    {
     "data": {
      "text/plain": [
       "(469, 52)"
      ]
     },
     "execution_count": 66,
     "metadata": {},
     "output_type": "execute_result"
    }
   ],
   "source": [
    "epoch_steps = X_train.shape[0] // MAX_BATCH_SIZE\n",
    "val_steps = X_val.shape[0] // MAX_BATCH_SIZE\n",
    "epoch_steps, val_steps"
   ]
  },
  {
   "cell_type": "code",
   "execution_count": 67,
   "metadata": {},
   "outputs": [],
   "source": [
    "rand_size = 25\n",
    "block_size = (30, 30)\n",
    "mask_type = 'rand'\n",
    "class DataGenerator(ImageDataGenerator):\n",
    "    def flow(self, X, *args, **kwargs):\n",
    "        i = 1\n",
    "        while True:\n",
    "            \n",
    "            # Get augmentend image samples\n",
    "            ori = next(super().flow(X, *args, **kwargs))\n",
    "\n",
    "            # Get masks for each image sample\n",
    "            mask = np.stack([random_mask(ori.shape[1], ori.shape[2], size=rand_size, channels=channel_num, smooth_time=smooth_time, type=mask_type, block_size=block_size) for _ in range(ori.shape[0])], axis=0)\n",
    "            # Apply masks to all image sample\n",
    "            masked = deepcopy(ori)\n",
    "#             print(masked.shape)\n",
    "            masked_mean = masked[mask==1].mean()\n",
    "            masked[mask==0] = masked_mean\n",
    "\n",
    "            # Yield ([ori, masl],  ori) training batches\n",
    "#             print(masked.shape, ori.shape)\n",
    "            gc.collect()\n",
    "            yield [masked, mask], ori[:,:,:,:1]\n",
    "            \n",
    "train_datagen = DataGenerator()\n",
    "train_generator = train_datagen.flow(\n",
    "    X_train, batch_size=MAX_BATCH_SIZE\n",
    ")\n",
    "\n",
    "# Create validation generator\n",
    "val_datagen = DataGenerator()\n",
    "val_generator = val_datagen.flow(\n",
    "    X_val, batch_size=MAX_BATCH_SIZE\n",
    ")\n"
   ]
  },
  {
   "cell_type": "code",
   "execution_count": 68,
   "metadata": {},
   "outputs": [],
   "source": [
    "# np.array(next(train_generator)[1])[:,:,:,:1].shape\n",
    "# reduce_lr = ReduceLROnPlateau(monitor='val_loss', patience=1, mode='auto')\n",
    "\n",
    "# model = PConvUnet(img_rows=length, img_cols=length, channels=channel_num)\n",
    "# optimizer = model.get_optimizer()\n",
    "# def scheduler(epoch):\n",
    "#     if epoch>1 and epoch % 1 == 0 and epoch != 0:\n",
    "#         lr = K.get_value(optimizer.lr)\n",
    "#         if lr>0.00005:\n",
    "#             if epoch%4==0:\n",
    "#                 K.set_value(optimizer.lr, lr * 0.6)\n",
    "#             else:\n",
    "#                 K.set_value(optimizer.lr, lr * 0.8)\n",
    "#     print(K.get_value(optimizer.lr))\n",
    "#     return K.get_value(optimizer.lr)\n",
    "\n",
    "# reduce_lr = LearningRateScheduler(scheduler)"
   ]
  },
  {
   "cell_type": "code",
   "execution_count": 69,
   "metadata": {},
   "outputs": [],
   "source": [
    "# 手动训练\n",
    "model = PConvUnet(img_rows=length, img_cols=length, channels=channel_num)\n",
    "optimizer = model.get_optimizer()\n",
    "def scheduler(epoch):\n",
    "    if epoch>2 and epoch % 1 == 0 and epoch != 0:\n",
    "        lr = K.get_value(optimizer.lr)\n",
    "        if lr>0.0001:\n",
    "            if epoch%3==0:\n",
    "                K.set_value(optimizer.lr, lr * 0.6)\n",
    "            else:\n",
    "                K.set_value(optimizer.lr, lr * 0.8)\n",
    "    print(K.get_value(optimizer.lr))\n",
    "    return K.get_value(optimizer.lr)\n",
    "\n",
    "reduce_lr = LearningRateScheduler(scheduler)"
   ]
  },
  {
   "cell_type": "code",
   "execution_count": 70,
   "metadata": {
    "scrolled": false
   },
   "outputs": [
    {
     "name": "stdout",
     "output_type": "stream",
     "text": [
      "Epoch 1/1\n",
      "0.004\n",
      "469/469 [==============================] - 312s 666ms/step - loss: 2681122.7487 - val_loss: 822571.2368\n",
      "Epoch 2/2\n",
      "0.004\n",
      "469/469 [==============================] - 251s 536ms/step - loss: 674023.7123 - val_loss: 613849.2260\n",
      "Epoch 3/3\n",
      "0.004\n",
      "469/469 [==============================] - 248s 529ms/step - loss: 621932.0113 - val_loss: 494819.1034\n",
      "Epoch 4/4\n",
      "0.0024\n",
      "469/469 [==============================] - 248s 530ms/step - loss: 423832.7031 - val_loss: 431110.5207\n",
      "Epoch 5/5\n",
      "0.0019200001\n",
      "469/469 [==============================] - 248s 529ms/step - loss: 359436.3455 - val_loss: 376934.5856\n",
      "Epoch 6/6\n",
      "0.001536\n",
      "469/469 [==============================] - 249s 531ms/step - loss: 317591.2241 - val_loss: 420261.0757\n",
      "Epoch 7/7\n",
      "0.00092160003\n",
      "469/469 [==============================] - 248s 529ms/step - loss: 294158.4952 - val_loss: 364146.5391\n",
      "Epoch 8/8\n",
      "0.00073728\n",
      "469/469 [==============================] - 249s 531ms/step - loss: 282009.7603 - val_loss: 354211.4979\n",
      "Epoch 9/9\n",
      "0.000589824\n",
      "469/469 [==============================] - 248s 530ms/step - loss: 267177.8479 - val_loss: 344347.4321\n",
      "Epoch 10/10\n",
      "0.0003538944\n",
      "469/469 [==============================] - 250s 534ms/step - loss: 254933.2476 - val_loss: 313205.6319\n",
      "Epoch 11/11\n",
      "0.0002831155\n",
      "469/469 [==============================] - 249s 531ms/step - loss: 237289.9664 - val_loss: 267413.3720\n",
      "Epoch 12/12\n",
      "0.00022649241\n",
      "469/469 [==============================] - 249s 532ms/step - loss: 236569.4290 - val_loss: 276198.4489\n",
      "Epoch 13/13\n",
      "0.00013589545\n",
      "469/469 [==============================] - 251s 534ms/step - loss: 234099.0672 - val_loss: 260128.1959\n",
      "Epoch 14/14\n",
      "0.000108716355\n",
      "469/469 [==============================] - 250s 532ms/step - loss: 227447.0305 - val_loss: 280938.1403\n",
      "Epoch 15/15\n",
      "8.697309e-05\n",
      "469/469 [==============================] - 250s 533ms/step - loss: 228276.6995 - val_loss: 269372.9504\n",
      "Epoch 16/16\n",
      "8.697309e-05\n",
      "469/469 [==============================] - 250s 532ms/step - loss: 220667.3621 - val_loss: 230255.7004\n",
      "Epoch 17/17\n",
      "8.697309e-05\n",
      "469/469 [==============================] - 250s 533ms/step - loss: 224100.9658 - val_loss: 271182.0754\n",
      "Epoch 18/18\n",
      "8.697309e-05\n",
      "469/469 [==============================] - 250s 534ms/step - loss: 222543.1037 - val_loss: 258536.7251\n",
      "Epoch 19/19\n",
      "8.697309e-05\n",
      "469/469 [==============================] - 251s 535ms/step - loss: 224555.7502 - val_loss: 241897.4892\n",
      "Epoch 20/20\n",
      "8.697309e-05\n",
      "469/469 [==============================] - 251s 535ms/step - loss: 219901.9107 - val_loss: 268440.4246\n"
     ]
    }
   ],
   "source": [
    "# 手动训练\n",
    "model.fit(\n",
    "    train_generator, \n",
    "    validation_data=val_generator,\n",
    "    steps_per_epoch = epoch_steps,\n",
    "    validation_steps = val_steps,\n",
    "    epochs = 20,\n",
    "    callbacks=[reduce_lr]\n",
    ")"
   ]
  },
  {
   "cell_type": "code",
   "execution_count": 71,
   "metadata": {
    "scrolled": true
   },
   "outputs": [],
   "source": [
    "model.save_weights('./model/bmodel_weights_random_25_2_20e.h5')\n",
    "# model.load_weights('.model//bmodel_weights_random_25_20e.h5')"
   ]
  },
  {
   "cell_type": "code",
   "execution_count": 72,
   "metadata": {},
   "outputs": [],
   "source": [
    "def l2(y_true, y_pred):\n",
    "    return np.sum(np.mean(np.square(y_true - y_pred), axis=0))\n",
    "\n",
    "def l1(y_true, y_pred):\n",
    "    return np.sum(np.mean(np.abs(y_true - y_pred), axis=0))"
   ]
  },
  {
   "cell_type": "code",
   "execution_count": 84,
   "metadata": {},
   "outputs": [
    {
     "data": {
      "text/plain": [
       "246009.44414879373"
      ]
     },
     "execution_count": 84,
     "metadata": {},
     "output_type": "execute_result"
    }
   ],
   "source": [
    "mask_shape = X_val.shape\n",
    "mask = np.stack([random_mask(mask_shape[1], mask_shape[2], size=rand_size, channels=channel_num, smooth_time=smooth_time, type=mask_type, block_size=block_size) for _ in range(mask_shape[0])], axis=0)\n",
    "\n",
    "masked = deepcopy(X_val)\n",
    "masked_mean = masked[mask==1].mean()\n",
    "masked[mask==0] = masked_mean\n",
    "\n",
    "y_pred = model.predict([masked, mask])\n",
    "y_true = X_val[:,:,:,:1]\n",
    "\n",
    "# 仅对缺失数据进行l2评价\n",
    "y_true = (1-mask[:,:,:,:1])*y_true\n",
    "y_pred = (1-mask[:,:,:,:1])*y_pred\n",
    "\n",
    "l2(y_true, y_pred)"
   ]
  },
  {
   "cell_type": "code",
   "execution_count": 74,
   "metadata": {},
   "outputs": [
    {
     "data": {
      "text/plain": [
       "1131.7269773626324"
      ]
     },
     "execution_count": 74,
     "metadata": {},
     "output_type": "execute_result"
    }
   ],
   "source": [
    "np.min(np.sum(np.sum(np.sum(np.abs(y_true - y_pred), axis=3), axis=2), axis=1))"
   ]
  },
  {
   "cell_type": "code",
   "execution_count": 75,
   "metadata": {
    "scrolled": true
   },
   "outputs": [],
   "source": [
    "# model.summary()"
   ]
  },
  {
   "cell_type": "code",
   "execution_count": 76,
   "metadata": {},
   "outputs": [],
   "source": [
    "# list = []\n",
    "# for _ in range(20):\n",
    "#     list.append(model.evaluate_generator(val_generator, 1))\n",
    "# list\n",
    "# # model.evaluate_generator(val_generator, 100)"
   ]
  },
  {
   "cell_type": "code",
   "execution_count": 77,
   "metadata": {},
   "outputs": [],
   "source": [
    "# import random\n",
    "# test_num = random.randint(0, 200)\n",
    "# test = deepcopy(X_train[test_num,np.newaxis,:])\n",
    "\n",
    "# test_mask = random_mask(test.shape[1], test.shape[2], size=0.1, channels=channel_num, smooth_time=smooth_time)\n",
    "# test_mask = test_mask[np.newaxis,:]\n",
    "\n",
    "# test_mask[0,:,:,0].shape\n",
    "# test[test_mask==0] = test.mean()\n",
    "\n",
    "# # test_mask.shape\n",
    "# # plt.imshow(test[0,:,:,0]*255)\n",
    "# test_res = model.predict([test, test_mask])\n",
    "# # np.sum((test-test_res)**2)\n",
    "# np.sum((test[0,:,:,0][test_mask[0,:,:,0] == 0] - test_res[0,:,:,0][test_mask[0,:,:,0] == 0])**2)"
   ]
  }
 ],
 "metadata": {
  "kernelspec": {
   "display_name": "Python 3",
   "language": "python",
   "name": "python3"
  },
  "language_info": {
   "codemirror_mode": {
    "name": "ipython",
    "version": 3
   },
   "file_extension": ".py",
   "mimetype": "text/x-python",
   "name": "python",
   "nbconvert_exporter": "python",
   "pygments_lexer": "ipython3",
   "version": "3.6.4"
  }
 },
 "nbformat": 4,
 "nbformat_minor": 2
}
