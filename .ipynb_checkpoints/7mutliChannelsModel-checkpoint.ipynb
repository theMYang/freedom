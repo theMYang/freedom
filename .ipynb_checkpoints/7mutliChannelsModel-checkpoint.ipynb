{
 "cells": [
  {
   "cell_type": "code",
   "execution_count": 1,
   "metadata": {},
   "outputs": [
    {
     "name": "stderr",
     "output_type": "stream",
     "text": [
      "Using TensorFlow backend.\n"
     ]
    }
   ],
   "source": [
    "import gc\n",
    "from copy import deepcopy\n",
    "import numpy as np\n",
    "import pandas as pd\n",
    "\n",
    "import matplotlib.pyplot as plt\n",
    "from sklearn.model_selection import train_test_split\n",
    "from keras.preprocessing.image import ImageDataGenerator\n",
    "\n",
    "from libs.util import random_mask\n",
    "from libs.pconv_model import PConvUnet\n",
    "from libs.properties import properties\n",
    "\n",
    "# Settings\n",
    "MAX_BATCH_SIZE = 32\n",
    "\n",
    "%matplotlib inline\n",
    "%load_ext autoreload\n",
    "%autoreload 2"
   ]
  },
  {
   "cell_type": "code",
   "execution_count": 2,
   "metadata": {},
   "outputs": [],
   "source": [
    "properties_dict = properties()\n",
    "length = properties_dict[\"length\"]"
   ]
  },
  {
   "cell_type": "code",
   "execution_count": 3,
   "metadata": {},
   "outputs": [
    {
     "data": {
      "text/plain": [
       "25"
      ]
     },
     "execution_count": 3,
     "metadata": {},
     "output_type": "execute_result"
    }
   ],
   "source": [
    "matrix_df = pd.read_csv('./data/trafficV_M.csv', index_col=0, parse_dates=True)"
   ]
  },
  {
   "cell_type": "code",
   "execution_count": 19,
   "metadata": {},
   "outputs": [
    {
     "name": "stdout",
     "output_type": "stream",
     "text": [
      "(8640, 1024)\n",
      "70778880 bytes\n",
      "0\n"
     ]
    }
   ],
   "source": [
    "# matrix_df = np.array(matrix_df)\n",
    "\n",
    "# print(matrix_df.shape)\n",
    "# print(\"%d bytes\" % (matrix_df.size * matrix_df.itemsize))\n",
    "# print(np.isnan(matrix_df).sum())"
   ]
  },
  {
   "cell_type": "code",
   "execution_count": 5,
   "metadata": {},
   "outputs": [],
   "source": [
    "# # 单独测试week_ago, mintue_ago\n",
    "# week_delta = pd.Timedelta(1, unit='W')\n",
    "# minute_delta = pd.Timedelta(15, unit='m')\n",
    "\n",
    "\n",
    "# channel_num = 3\n",
    "# smooth_time = channel_num-1\n",
    "# set_up_time = week_delta\n",
    "\n",
    "# train_df = matrix_df.truncate(before=matrix_df.index.min() + set_up_time)\n",
    "# train_week_ago_df = matrix_df.loc[train_df.index - week_delta]\n",
    "# train_minute_ago_df = matrix_df.loc[train_df.index - minute_delta]\n",
    "\n",
    "# train_df = np.array(train_df).reshape(-1, length, length, 1)\n",
    "# train_week_ago_df = np.array(train_week_ago_df).reshape(-1, length, length, 1)\n",
    "# train_minute_ago_df = np.array(train_minute_ago_df).reshape(-1, length, length, 1)\n",
    "\n",
    "\n",
    "# train_array = np.concatenate((train_df, train_minute_ago_df, train_week_ago_df), axis=3)\n",
    "# X_train, X_val = train_test_split(train_array, test_size = 0.1, random_state=42)"
   ]
  },
  {
   "cell_type": "code",
   "execution_count": 6,
   "metadata": {},
   "outputs": [],
   "source": [
    "def createTrainArray(week_history_num=0, minute_history_num=0):\n",
    "    week_delta_list = [pd.Timedelta(i+1, unit='W') for i in range(week_history_num)]\n",
    "    minute_delta_list = [pd.Timedelta((i+1)*15, unit='m') for i in range(minute_history_num)]\n",
    "    delta_list = week_delta_list+minute_delta_list\n",
    "    print(delta_list)\n",
    "    \n",
    "    set_up_time = pd.Timedelta(week_history_num, unit='W')\n",
    "    train_df = matrix_df.truncate(before=matrix_df.index.min() + set_up_time)\n",
    "    \n",
    "    train_ago_array_tuple = tuple([np.array(matrix_df.loc[train_df.index - i]).reshape(-1, length, length, 1) for i in delta_list])\n",
    "    train_df = np.array(train_df).reshape(-1, length, length, 1)\n",
    "    train_array = np.concatenate((train_df,)+train_ago_array_tuple, axis=3)\n",
    "    print(train_array.shape)\n",
    "    return train_array"
   ]
  },
  {
   "cell_type": "code",
   "execution_count": 7,
   "metadata": {},
   "outputs": [
    {
     "name": "stdout",
     "output_type": "stream",
     "text": [
      "[Timedelta('7 days 00:00:00'), Timedelta('14 days 00:00:00'), Timedelta('0 days 00:15:00'), Timedelta('0 days 00:30:00'), Timedelta('0 days 00:45:00')]\n",
      "(7296, 32, 32, 6)\n"
     ]
    }
   ],
   "source": [
    "week_history_num = 2\n",
    "minute_history_num = 3\n",
    "\n",
    "channel_num = week_history_num +minute_history_num +1\n",
    "smooth_time = channel_num-1\n",
    "\n",
    "train_array = createTrainArray(week_history_num, minute_history_num)\n",
    "X_train, X_val = train_test_split(train_array, test_size = 0.1, random_state=42)"
   ]
  },
  {
   "cell_type": "code",
   "execution_count": 8,
   "metadata": {},
   "outputs": [
    {
     "data": {
      "text/plain": [
       "(205, 22)"
      ]
     },
     "execution_count": 8,
     "metadata": {},
     "output_type": "execute_result"
    }
   ],
   "source": [
    "epoch_steps = X_train.shape[0] // MAX_BATCH_SIZE\n",
    "val_steps = X_val.shape[0] // MAX_BATCH_SIZE\n",
    "epoch_steps, val_steps"
   ]
  },
  {
   "cell_type": "code",
   "execution_count": 9,
   "metadata": {},
   "outputs": [],
   "source": [
    "class DataGenerator(ImageDataGenerator):\n",
    "    def flow(self, X, *args, **kwargs):\n",
    "        while True:\n",
    "            \n",
    "            # Get augmentend image samples\n",
    "            ori = next(super().flow(X, *args, **kwargs))\n",
    "    \n",
    "            # Get masks for each image sample\n",
    "            mask = np.stack([random_mask(ori.shape[1], ori.shape[2], size=0.1, channels=channel_num, smooth_time=smooth_time) for _ in range(ori.shape[0])], axis=0)\n",
    "\n",
    "            # Apply masks to all image sample\n",
    "            masked = deepcopy(ori)\n",
    "#             print(masked.shape)\n",
    "            masked_mean = masked[mask==1].mean()\n",
    "            masked[mask==0] = masked_mean\n",
    "\n",
    "            # Yield ([ori, masl],  ori) training batches\n",
    "#             print(masked.shape, ori.shape)\n",
    "            gc.collect()\n",
    "            yield [masked, mask], ori[:,:,:,:1]\n",
    "            \n",
    "train_datagen = DataGenerator()\n",
    "train_generator = train_datagen.flow(\n",
    "    X_train, batch_size=MAX_BATCH_SIZE\n",
    ")\n",
    "\n",
    "# Create validation generator\n",
    "val_datagen = DataGenerator()\n",
    "val_generator = val_datagen.flow(\n",
    "    X_val, batch_size=MAX_BATCH_SIZE\n",
    ")"
   ]
  },
  {
   "cell_type": "code",
   "execution_count": 10,
   "metadata": {},
   "outputs": [],
   "source": [
    "# np.array(next(train_generator)[1])[:,:,:,:1].shape"
   ]
  },
  {
   "cell_type": "code",
   "execution_count": 11,
   "metadata": {
    "scrolled": false
   },
   "outputs": [
    {
     "name": "stdout",
     "output_type": "stream",
     "text": [
      "Epoch 1/1\n"
     ]
    },
    {
     "name": "stderr",
     "output_type": "stream",
     "text": [
      "C:\\ProgramData\\Anaconda3\\lib\\site-packages\\keras_preprocessing\\image.py:1437: UserWarning: NumpyArrayIterator is set to use the data format convention \"channels_last\" (channels on axis 3), i.e. expected either 1, 3, or 4 channels on axis 3. However, it was passed an array with shape (730, 32, 32, 6) (6 channels).\n",
      "  str(self.x.shape[channels_axis]) + ' channels).')\n",
      "C:\\ProgramData\\Anaconda3\\lib\\site-packages\\keras_preprocessing\\image.py:1437: UserWarning: NumpyArrayIterator is set to use the data format convention \"channels_last\" (channels on axis 3), i.e. expected either 1, 3, or 4 channels on axis 3. However, it was passed an array with shape (6566, 32, 32, 6) (6 channels).\n",
      "  str(self.x.shape[channels_axis]) + ' channels).')\n"
     ]
    },
    {
     "name": "stdout",
     "output_type": "stream",
     "text": [
      "205/205 [==============================] - 67s 324ms/step - loss: 5148163.6659 - val_loss: 1379340.4432\n"
     ]
    }
   ],
   "source": [
    "model = PConvUnet(img_rows=length, img_cols=length, channels=channel_num)\n",
    "\n",
    "model.fit(\n",
    "    train_generator, \n",
    "    validation_data=val_generator,\n",
    "    steps_per_epoch = epoch_steps,\n",
    "    validation_steps = val_steps,\n",
    "    epochs = 10\n",
    ")"
   ]
  },
  {
   "cell_type": "code",
   "execution_count": 12,
   "metadata": {
    "scrolled": true
   },
   "outputs": [],
   "source": [
    "# model.summary()"
   ]
  },
  {
   "cell_type": "code",
   "execution_count": 18,
   "metadata": {},
   "outputs": [
    {
     "name": "stderr",
     "output_type": "stream",
     "text": [
      "C:\\ProgramData\\Anaconda3\\lib\\site-packages\\keras_preprocessing\\image.py:1437: UserWarning: NumpyArrayIterator is set to use the data format convention \"channels_last\" (channels on axis 3), i.e. expected either 1, 3, or 4 channels on axis 3. However, it was passed an array with shape (730, 32, 32, 6) (6 channels).\n",
      "  str(self.x.shape[channels_axis]) + ' channels).')\n"
     ]
    },
    {
     "data": {
      "text/plain": [
       "1375086.5053571428"
      ]
     },
     "execution_count": 18,
     "metadata": {},
     "output_type": "execute_result"
    }
   ],
   "source": [
    "model.evaluate_generator(val_generator, 35)"
   ]
  },
  {
   "cell_type": "code",
   "execution_count": null,
   "metadata": {},
   "outputs": [],
   "source": [
    "# import random\n",
    "# test_num = random.randint(0, 200)\n",
    "# test = deepcopy(X_train[test_num,np.newaxis,:])\n",
    "\n",
    "# test_mask = random_mask(test.shape[1], test.shape[2], size=0.1, channels=channel_num, smooth_time=smooth_time)\n",
    "# test_mask = test_mask[np.newaxis,:]\n",
    "\n",
    "# test_mask[0,:,:,0].shape\n",
    "# test[test_mask==0] = test.mean()\n",
    "\n",
    "# # test_mask.shape\n",
    "# # plt.imshow(test[0,:,:,0]*255)\n",
    "# test_res = model.predict([test, test_mask])\n",
    "# # np.sum((test-test_res)**2)\n",
    "# np.sum((test[0,:,:,0][test_mask[0,:,:,0] == 0] - test_res[0,:,:,0][test_mask[0,:,:,0] == 0])**2)"
   ]
  }
 ],
 "metadata": {
  "kernelspec": {
   "display_name": "Python 3",
   "language": "python",
   "name": "python3"
  },
  "language_info": {
   "codemirror_mode": {
    "name": "ipython",
    "version": 3
   },
   "file_extension": ".py",
   "mimetype": "text/x-python",
   "name": "python",
   "nbconvert_exporter": "python",
   "pygments_lexer": "ipython3",
   "version": "3.6.4"
  }
 },
 "nbformat": 4,
 "nbformat_minor": 2
}
