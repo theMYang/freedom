{
 "cells": [
  {
   "cell_type": "code",
   "execution_count": 1,
   "metadata": {},
   "outputs": [],
   "source": [
    "import itertools\n",
    "import matplotlib.pyplot as plt\n",
    "from libs.util import random_mask\n",
    "\n",
    "%matplotlib inline"
   ]
  },
  {
   "cell_type": "code",
   "execution_count": 2,
   "metadata": {},
   "outputs": [],
   "source": [
    "# ??random_mask"
   ]
  },
  {
   "cell_type": "code",
   "execution_count": 6,
   "metadata": {
    "scrolled": false
   },
   "outputs": [
    {
     "data": {
      "image/png": "[encoded data removed]",
      "text/plain": [
       "<matplotlib.figure.Figure at 0x1a294c44a90>"
      ]
     },
     "metadata": {},
     "output_type": "display_data"
    }
   ],
   "source": [
    "# Plot the results\n",
    "_, axes = plt.subplots(2, 2, figsize=(8, 8))\n",
    "axes = list(itertools.chain.from_iterable(axes))\n",
    "\n",
    "for i in range(len(axes)):\n",
    "    \n",
    "    # Generate image\n",
    "    img = random_mask(32, 32, 20, channels=3, type='block', block_size=(9,3))[:,:,0]\n",
    "    \n",
    "    # Plot image on axis\n",
    "    axes[i].imshow(img*255)"
   ]
  },
  {
   "cell_type": "code",
   "execution_count": 4,
   "metadata": {},
   "outputs": [],
   "source": [
    "# #随机生成点\n",
    "# import numpy as np\n",
    "# img = np.zeros((8, 8, 1), np.uint8)\n",
    "# height=10\n",
    "# width=10\n",
    "# channels = 3\n",
    "# size = 30\n",
    "# a = np.random.choice(height*width, size, replace=False)\n",
    "\n",
    "# coordinate_map = map(lambda x: np.unravel_index(x, (height, width)), a)\n",
    "# img = np.zeros((height, width, channels), np.uint8)\n",
    "# def f(x, y):\n",
    "#     img[x][y]=1\n",
    "    \n",
    "# list(map(lambda x: f(x[0],x[1]), list(coordinate_map)))\n",
    "\n",
    "# img.sum()"
   ]
  }
 ],
 "metadata": {
  "kernelspec": {
   "display_name": "Python 3",
   "language": "python",
   "name": "python3"
  },
  "language_info": {
   "codemirror_mode": {
    "name": "ipython",
    "version": 3
   },
   "file_extension": ".py",
   "mimetype": "text/x-python",
   "name": "python",
   "nbconvert_exporter": "python",
   "pygments_lexer": "ipython3",
   "version": "3.6.4"
  }
 },
 "nbformat": 4,
 "nbformat_minor": 2
}
