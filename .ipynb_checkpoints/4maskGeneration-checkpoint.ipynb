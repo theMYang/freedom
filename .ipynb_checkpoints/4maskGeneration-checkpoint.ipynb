{
 "cells": [
  {
   "cell_type": "code",
   "execution_count": 9,
   "metadata": {},
   "outputs": [
    {
     "name": "stdout",
     "output_type": "stream",
     "text": [
      "The autoreload extension is already loaded. To reload it, use:\n",
      "  %reload_ext autoreload\n"
     ]
    }
   ],
   "source": [
    "import itertools\n",
    "import matplotlib.pyplot as plt\n",
    "from libs.util import random_mask\n",
    "\n",
    "%matplotlib inline\n",
    "%load_ext autoreload\n",
    "%autoreload 2"
   ]
  },
  {
   "cell_type": "code",
   "execution_count": 10,
   "metadata": {},
   "outputs": [],
   "source": [
    "# ??random_mask"
   ]
  },
  {
   "cell_type": "code",
   "execution_count": 11,
   "metadata": {
    "scrolled": false
   },
   "outputs": [],
   "source": [
    "# # Plot the results\n",
    "# _, axes = plt.subplots(2, 2, figsize=(8, 8))\n",
    "# axes = list(itertools.chain.from_iterable(axes))\n",
    "\n",
    "# for i in range(len(axes)):\n",
    "    \n",
    "#     # Generate image\n",
    "#     img = random_mask(32, 32, 80, channels=1, type='rand', block_size=(9,3))\n",
    "#     print(img.shape)\n",
    "    \n",
    "#     # Plot image on axis\n",
    "#     axes[i].imshow((img[:,:,0])*255, cmap ='gray')"
   ]
  },
  {
   "cell_type": "code",
   "execution_count": 35,
   "metadata": {},
   "outputs": [
    {
     "name": "stdout",
     "output_type": "stream",
     "text": [
      "(32, 32, 6)\n"
     ]
    },
    {
     "data": {
      "image/png": "[encoded data removed]",
      "text/plain": [
       "<matplotlib.figure.Figure at 0x25768e2e898>"
      ]
     },
     "metadata": {},
     "output_type": "display_data"
    }
   ],
   "source": [
    "# 测试smooth_time\n",
    "_, axes = plt.subplots(3, 3, figsize=(8, 8))\n",
    "axes = list(itertools.chain.from_iterable(axes))\n",
    "\n",
    "# Generate image\n",
    "img = random_mask(32, 32, 80, channels=6, smooth_time=4, type='rand', block_size=(9,3))\n",
    "print(img.shape)\n",
    "for i in range(img.shape[-1]):\n",
    "    # Plot image on axis\n",
    "    if img[:,:,i].sum() == 1024:\n",
    "        img[:,:,i][16][16] = 0\n",
    "    \n",
    "    axes[i].imshow((img[:,:,i])*255, cmap ='gray')"
   ]
  },
  {
   "cell_type": "code",
   "execution_count": 13,
   "metadata": {},
   "outputs": [],
   "source": [
    "# #随机生成点\n",
    "# import numpy as np\n",
    "# img = np.zeros((8, 8, 1), np.uint8)\n",
    "# height=10\n",
    "# width=10\n",
    "# channels = 3\n",
    "# size = 30\n",
    "# a = np.random.choice(height*width, size, replace=False)\n",
    "\n",
    "# coordinate_map = map(lambda x: np.unravel_index(x, (height, width)), a)\n",
    "# img = np.zeros((height, width, channels), np.uint8)\n",
    "# def f(x, y):\n",
    "#     img[x][y]=1\n",
    "    \n",
    "# list(map(lambda x: f(x[0],x[1]), list(coordinate_map)))\n",
    "\n",
    "# img.sum()"
   ]
  }
 ],
 "metadata": {
  "kernelspec": {
   "display_name": "Python 3",
   "language": "python",
   "name": "python3"
  },
  "language_info": {
   "codemirror_mode": {
    "name": "ipython",
    "version": 3
   },
   "file_extension": ".py",
   "mimetype": "text/x-python",
   "name": "python",
   "nbconvert_exporter": "python",
   "pygments_lexer": "ipython3",
   "version": "3.6.4"
  }
 },
 "nbformat": 4,
 "nbformat_minor": 2
}
