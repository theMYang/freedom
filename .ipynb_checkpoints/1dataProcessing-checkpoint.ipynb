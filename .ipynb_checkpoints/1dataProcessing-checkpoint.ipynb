{
 "cells": [
  {
   "cell_type": "code",
   "execution_count": 1,
   "metadata": {},
   "outputs": [],
   "source": [
    "import numpy as np\n",
    "import pandas as pd\n",
    "import matplotlib.pyplot as plt\n",
    "import seaborn as sns\n",
    "\n",
    "%matplotlib inline\n",
    "plt.rcParams['figure.figsize'] = (18.0, 14.0) # 设置figure_size尺寸"
   ]
  },
  {
   "cell_type": "code",
   "execution_count": 2,
   "metadata": {},
   "outputs": [],
   "source": [
    "link = pd.read_csv(\"linkCoordinates.csv\")"
   ]
  },
  {
   "cell_type": "code",
   "execution_count": 3,
   "metadata": {},
   "outputs": [
    {
     "data": {
      "text/html": [
       "<div>\n",
       "<style scoped>\n",
       "    .dataframe tbody tr th:only-of-type {\n",
       "        vertical-align: middle;\n",
       "    }\n",
       "\n",
       "    .dataframe tbody tr th {\n",
       "        vertical-align: top;\n",
       "    }\n",
       "\n",
       "    .dataframe thead th {\n",
       "        text-align: right;\n",
       "    }\n",
       "</style>\n",
       "<table border=\"1\" class=\"dataframe\">\n",
       "  <thead>\n",
       "    <tr style=\"text-align: right;\">\n",
       "      <th></th>\n",
       "      <th>LinkRef</th>\n",
       "      <th>LinkDescription</th>\n",
       "      <th>StartJunction</th>\n",
       "      <th>EndJunction</th>\n",
       "      <th>StartX</th>\n",
       "      <th>StartY</th>\n",
       "      <th>EndX</th>\n",
       "      <th>EndY</th>\n",
       "    </tr>\n",
       "  </thead>\n",
       "  <tbody>\n",
       "    <tr>\n",
       "      <th>0</th>\n",
       "      <td>AL1000</td>\n",
       "      <td>A38 between A513 and A5127 (AL1000)</td>\n",
       "      <td>A513</td>\n",
       "      <td>A5127</td>\n",
       "      <td>417216.0</td>\n",
       "      <td>314346.0</td>\n",
       "      <td>414414.0</td>\n",
       "      <td>310549.0</td>\n",
       "    </tr>\n",
       "    <tr>\n",
       "      <th>1</th>\n",
       "      <td>AL1001</td>\n",
       "      <td>A38 between A5127 and A513 (AL1001)</td>\n",
       "      <td>A5127</td>\n",
       "      <td>A513</td>\n",
       "      <td>414399.0</td>\n",
       "      <td>310543.0</td>\n",
       "      <td>417204.0</td>\n",
       "      <td>314350.0</td>\n",
       "    </tr>\n",
       "    <tr>\n",
       "      <th>2</th>\n",
       "      <td>AL1004</td>\n",
       "      <td>A38 between A513 and A5121 (AL1004)</td>\n",
       "      <td>A513</td>\n",
       "      <td>A5121</td>\n",
       "      <td>417204.0</td>\n",
       "      <td>314350.0</td>\n",
       "      <td>421987.0</td>\n",
       "      <td>321236.0</td>\n",
       "    </tr>\n",
       "    <tr>\n",
       "      <th>3</th>\n",
       "      <td>AL1007</td>\n",
       "      <td>A38 between A5121 and A513 (AL1007)</td>\n",
       "      <td>A5121</td>\n",
       "      <td>A513</td>\n",
       "      <td>422031.0</td>\n",
       "      <td>321346.0</td>\n",
       "      <td>417216.0</td>\n",
       "      <td>314346.0</td>\n",
       "    </tr>\n",
       "    <tr>\n",
       "      <th>4</th>\n",
       "      <td>AL1012</td>\n",
       "      <td>A42 between A511 and M42 J11 (AL1012)</td>\n",
       "      <td>A511</td>\n",
       "      <td>M42 J11</td>\n",
       "      <td>437463.0</td>\n",
       "      <td>317050.0</td>\n",
       "      <td>430734.0</td>\n",
       "      <td>310772.0</td>\n",
       "    </tr>\n",
       "  </tbody>\n",
       "</table>\n",
       "</div>"
      ],
      "text/plain": [
       "  LinkRef                        LinkDescription StartJunction EndJunction  \\\n",
       "0  AL1000    A38 between A513 and A5127 (AL1000)          A513       A5127   \n",
       "1  AL1001    A38 between A5127 and A513 (AL1001)         A5127        A513   \n",
       "2  AL1004    A38 between A513 and A5121 (AL1004)          A513       A5121   \n",
       "3  AL1007    A38 between A5121 and A513 (AL1007)         A5121        A513   \n",
       "4  AL1012  A42 between A511 and M42 J11 (AL1012)          A511     M42 J11   \n",
       "\n",
       "     StartX    StartY      EndX      EndY  \n",
       "0  417216.0  314346.0  414414.0  310549.0  \n",
       "1  414399.0  310543.0  417204.0  314350.0  \n",
       "2  417204.0  314350.0  421987.0  321236.0  \n",
       "3  422031.0  321346.0  417216.0  314346.0  \n",
       "4  437463.0  317050.0  430734.0  310772.0  "
      ]
     },
     "execution_count": 3,
     "metadata": {},
     "output_type": "execute_result"
    }
   ],
   "source": [
    "link.head()"
   ]
  },
  {
   "cell_type": "code",
   "execution_count": 4,
   "metadata": {},
   "outputs": [
    {
     "data": {
      "text/plain": [
       "(2510, 8)"
      ]
     },
     "execution_count": 4,
     "metadata": {},
     "output_type": "execute_result"
    }
   ],
   "source": [
    "link.shape"
   ]
  },
  {
   "cell_type": "code",
   "execution_count": 5,
   "metadata": {},
   "outputs": [
    {
     "data": {
      "text/plain": [
       "2510"
      ]
     },
     "execution_count": 5,
     "metadata": {},
     "output_type": "execute_result"
    }
   ],
   "source": [
    "link['LinkRef'].nunique()"
   ]
  },
  {
   "cell_type": "code",
   "execution_count": 6,
   "metadata": {},
   "outputs": [],
   "source": [
    "link.dropna(inplace=True)"
   ]
  },
  {
   "cell_type": "code",
   "execution_count": 7,
   "metadata": {},
   "outputs": [],
   "source": [
    "link['xCenter'] = (link['StartX'] + link['EndX'])/2\n",
    "link['yCenter'] = (link['StartY'] + link['EndY'])/2"
   ]
  },
  {
   "cell_type": "code",
   "execution_count": 8,
   "metadata": {},
   "outputs": [],
   "source": [
    "# link['isAL'] = link['LinkRef'].str.contains(\"AL\")\n",
    "\n",
    "# ax = link[link['isAL']==True].plot.scatter(x = 'xCenter', y = 'yCenter', color='DarkBlue', label='AL');\n",
    "# link[link['isAL']==False].plot.scatter(x = 'xCenter', y = 'yCenter', color='DarkGreen', label='FL', ax=ax);"
   ]
  },
  {
   "cell_type": "code",
   "execution_count": 9,
   "metadata": {},
   "outputs": [],
   "source": [
    "# link.plot.scatter(x = 'xCenter', y = 'yCenter')"
   ]
  },
  {
   "cell_type": "code",
   "execution_count": 10,
   "metadata": {},
   "outputs": [],
   "source": [
    "null_point = ['AL1352', 'AL1353', 'AL1380A', 'AL1381A', 'AL2567', 'AL2568', 'AL2572', 'AL257A', 'AL2739', 'AL2740', 'AL320A', 'AL3510', 'LM1048A', 'LM1511', 'LM1512', 'LM153', 'LM154', 'LM316', 'LM382', 'LM514', 'LM631A', 'LM796', 'LM797', 'LM962', 'LM963']\n",
    "null_point = null_point+['LM100', 'LM99']"
   ]
  },
  {
   "cell_type": "code",
   "execution_count": 11,
   "metadata": {},
   "outputs": [
    {
     "data": {
      "text/plain": [
       "(1024, 10)"
      ]
     },
     "execution_count": 11,
     "metadata": {},
     "output_type": "execute_result"
    }
   ],
   "source": [
    "x_up = 630000\n",
    "x_bottom = 411500\n",
    "y_up = 307800\n",
    "y_bottom = 80000\n",
    "\n",
    "london_link = link[(link['xCenter']>x_bottom) & (link['xCenter']<x_up) & (link['yCenter']<y_up) & (link['yCenter']>y_bottom)]\n",
    "london_link[~london_link['LinkRef'].isin(null_point)].shape"
   ]
  },
  {
   "cell_type": "code",
   "execution_count": 12,
   "metadata": {},
   "outputs": [],
   "source": [
    "london_link = london_link[~london_link['LinkRef'].isin(null_point)]"
   ]
  },
  {
   "cell_type": "code",
   "execution_count": 13,
   "metadata": {},
   "outputs": [],
   "source": [
    "# ax = london_link.plot.scatter(x = 'xCenter', y = 'yCenter')\n",
    "# london_link[london_link['LinkRef'].isin(null_point)].plot.scatter(x = 'xCenter', y = 'yCenter', s=250, c='black', ax=ax)"
   ]
  },
  {
   "cell_type": "code",
   "execution_count": 14,
   "metadata": {},
   "outputs": [],
   "source": [
    "# from sklearn.cluster import KMeans\n",
    "# kmeans = KMeans(n_clusters=16, random_state=0).fit(london_link[['xCenter','yCenter']])\n",
    "# london_link['cluster'] = kmeans.predict(london_link[['xCenter','yCenter']])\n",
    "\n",
    "# cluster_point = kmeans.cluster_centers_\n",
    "\n",
    "# # sns.lmplot('xCenter', 'yCenter', data=london_link, hue='cluster', fit_reg=False, scatter_kws={\"s\": 30, \"alpha\": 1})\n",
    "# color_list = ['darkcyan', 'DarkGreen', 'darkred', 'darkgoldenrod', 'darkgray', 'darkkhaki', 'darkmagenta','darkorange','darkorchid','darksalmon','darkseagreen','darkslateblue','darkslategray','darkturquoise','darkviolet']\n",
    "\n",
    "# ax = london_link[london_link['cluster']==0].plot.scatter(x = 'xCenter', y = 'yCenter', color='DarkBlue', label='0');\n",
    "# for i in range(1, 16):\n",
    "#     london_link[london_link['cluster']==i].plot.scatter(x = 'xCenter', y = 'yCenter', color=color_list[i-1], label=i , ax=ax)\n",
    "#     print(london_link[london_link['cluster']==i].shape)\n",
    "    \n",
    "# for i in range(16):\n",
    "#     plt.scatter(x=cluster_point[i][0], y=cluster_point[i][1], s=50, c='black')\n",
    "#     plt.annotate(i, (cluster_point[i][0]+100,cluster_point[i][1]+100),zorder=99999,fontsize=16)\n"
   ]
  },
  {
   "cell_type": "code",
   "execution_count": 15,
   "metadata": {
    "scrolled": true
   },
   "outputs": [
    {
     "data": {
      "text/html": [
       "<div>\n",
       "<style scoped>\n",
       "    .dataframe tbody tr th:only-of-type {\n",
       "        vertical-align: middle;\n",
       "    }\n",
       "\n",
       "    .dataframe tbody tr th {\n",
       "        vertical-align: top;\n",
       "    }\n",
       "\n",
       "    .dataframe thead th {\n",
       "        text-align: right;\n",
       "    }\n",
       "</style>\n",
       "<table border=\"1\" class=\"dataframe\">\n",
       "  <thead>\n",
       "    <tr style=\"text-align: right;\">\n",
       "      <th></th>\n",
       "      <th>LinkRef</th>\n",
       "      <th>LinkDescription</th>\n",
       "      <th>StartJunction</th>\n",
       "      <th>EndJunction</th>\n",
       "      <th>StartX</th>\n",
       "      <th>StartY</th>\n",
       "      <th>EndX</th>\n",
       "      <th>EndY</th>\n",
       "      <th>xCenter</th>\n",
       "      <th>yCenter</th>\n",
       "      <th>xCoordinate</th>\n",
       "      <th>yCoordinate</th>\n",
       "    </tr>\n",
       "  </thead>\n",
       "  <tbody>\n",
       "    <tr>\n",
       "      <th>1592</th>\n",
       "      <td>LM179</td>\n",
       "      <td>M1 between M1 J21A and M1 J22 (LM179)</td>\n",
       "      <td>M1 J21A</td>\n",
       "      <td>M1 J22</td>\n",
       "      <td>453062.0</td>\n",
       "      <td>304417.0</td>\n",
       "      <td>447920.0</td>\n",
       "      <td>311084.0</td>\n",
       "      <td>450491.0</td>\n",
       "      <td>307750.5</td>\n",
       "      <td>0</td>\n",
       "      <td>0</td>\n",
       "    </tr>\n",
       "    <tr>\n",
       "      <th>7</th>\n",
       "      <td>AL1020</td>\n",
       "      <td>A46 between A5630 and A50 (AL1020)</td>\n",
       "      <td>A5630</td>\n",
       "      <td>A50</td>\n",
       "      <td>455329.0</td>\n",
       "      <td>307897.0</td>\n",
       "      <td>453900.0</td>\n",
       "      <td>307423.0</td>\n",
       "      <td>454614.5</td>\n",
       "      <td>307660.0</td>\n",
       "      <td>0</td>\n",
       "      <td>0</td>\n",
       "    </tr>\n",
       "    <tr>\n",
       "      <th>6</th>\n",
       "      <td>AL1018</td>\n",
       "      <td>A46 between A50 and A5630 (AL1018)</td>\n",
       "      <td>A50</td>\n",
       "      <td>A5630</td>\n",
       "      <td>453813.0</td>\n",
       "      <td>307385.0</td>\n",
       "      <td>455243.0</td>\n",
       "      <td>307845.0</td>\n",
       "      <td>454528.0</td>\n",
       "      <td>307615.0</td>\n",
       "      <td>0</td>\n",
       "      <td>0</td>\n",
       "    </tr>\n",
       "    <tr>\n",
       "      <th>1414</th>\n",
       "      <td>AL972</td>\n",
       "      <td>A47 between A146 and A1042 (AL972)</td>\n",
       "      <td>A146</td>\n",
       "      <td>A1042</td>\n",
       "      <td>625022.0</td>\n",
       "      <td>306228.0</td>\n",
       "      <td>628798.0</td>\n",
       "      <td>308515.0</td>\n",
       "      <td>626910.0</td>\n",
       "      <td>307371.5</td>\n",
       "      <td>0</td>\n",
       "      <td>0</td>\n",
       "    </tr>\n",
       "    <tr>\n",
       "      <th>1413</th>\n",
       "      <td>AL971</td>\n",
       "      <td>A47 between A1042 and A146 (AL971)</td>\n",
       "      <td>A1042</td>\n",
       "      <td>A146</td>\n",
       "      <td>628806.0</td>\n",
       "      <td>308505.0</td>\n",
       "      <td>625047.0</td>\n",
       "      <td>306234.0</td>\n",
       "      <td>626926.5</td>\n",
       "      <td>307369.5</td>\n",
       "      <td>0</td>\n",
       "      <td>0</td>\n",
       "    </tr>\n",
       "  </tbody>\n",
       "</table>\n",
       "</div>"
      ],
      "text/plain": [
       "     LinkRef                        LinkDescription StartJunction EndJunction  \\\n",
       "1592   LM179  M1 between M1 J21A and M1 J22 (LM179)       M1 J21A      M1 J22   \n",
       "7     AL1020     A46 between A5630 and A50 (AL1020)         A5630         A50   \n",
       "6     AL1018     A46 between A50 and A5630 (AL1018)           A50       A5630   \n",
       "1414   AL972     A47 between A146 and A1042 (AL972)          A146       A1042   \n",
       "1413   AL971     A47 between A1042 and A146 (AL971)         A1042        A146   \n",
       "\n",
       "        StartX    StartY      EndX      EndY   xCenter   yCenter  xCoordinate  \\\n",
       "1592  453062.0  304417.0  447920.0  311084.0  450491.0  307750.5            0   \n",
       "7     455329.0  307897.0  453900.0  307423.0  454614.5  307660.0            0   \n",
       "6     453813.0  307385.0  455243.0  307845.0  454528.0  307615.0            0   \n",
       "1414  625022.0  306228.0  628798.0  308515.0  626910.0  307371.5            0   \n",
       "1413  628806.0  308505.0  625047.0  306234.0  626926.5  307369.5            0   \n",
       "\n",
       "      yCoordinate  \n",
       "1592            0  \n",
       "7               0  \n",
       "6               0  \n",
       "1414            0  \n",
       "1413            0  "
      ]
     },
     "execution_count": 15,
     "metadata": {},
     "output_type": "execute_result"
    }
   ],
   "source": [
    "matrix_constructor = london_link.sort_values(by='yCenter', ascending=False)\n",
    "matrix_constructor['xCoordinate'] = 0\n",
    "matrix_constructor['yCoordinate'] = 0\n",
    "matrix_constructor.head()"
   ]
  },
  {
   "cell_type": "code",
   "execution_count": 16,
   "metadata": {},
   "outputs": [],
   "source": [
    "for i in range(32):\n",
    "    start_idx = i*32\n",
    "    end_idx = (i+1)*32\n",
    "    idx = matrix_constructor[start_idx: end_idx].sort_values(by='xCenter', ascending=True).index\n",
    "    matrix_constructor.loc[idx, 'yCoordinate'] = i\n",
    "    matrix_constructor.loc[idx, 'xCoordinate'] = list(range(32))"
   ]
  },
  {
   "cell_type": "markdown",
   "metadata": {},
   "source": [
    "交通量数据"
   ]
  },
  {
   "cell_type": "code",
   "execution_count": 98,
   "metadata": {},
   "outputs": [
    {
     "data": {
      "text/plain": [
       "(7347744, 4)"
      ]
     },
     "execution_count": 98,
     "metadata": {},
     "output_type": "execute_result"
    }
   ],
   "source": [
    "trafficV = pd.read_csv('./data/2013_01Jan_SRNData.csv')\n",
    "drop_col = ['LinkDescription', 'AverageJT', 'AverageSpeed', 'DataQuality', 'LinkLength']\n",
    "trafficV.drop(drop_col, axis=1, inplace=True)\n",
    "trafficV.shape"
   ]
  },
  {
   "cell_type": "code",
   "execution_count": 99,
   "metadata": {
    "scrolled": true
   },
   "outputs": [
    {
     "data": {
      "text/plain": [
       "{'AL1352',\n",
       " 'AL1353',\n",
       " 'AL1380A',\n",
       " 'AL1381A',\n",
       " 'AL2567',\n",
       " 'AL2568',\n",
       " 'AL2572',\n",
       " 'AL257A',\n",
       " 'AL2739',\n",
       " 'AL2740',\n",
       " 'AL320A',\n",
       " 'AL3510',\n",
       " 'LM1048A',\n",
       " 'LM1511',\n",
       " 'LM1512',\n",
       " 'LM153',\n",
       " 'LM154',\n",
       " 'LM316',\n",
       " 'LM382',\n",
       " 'LM514',\n",
       " 'LM631A',\n",
       " 'LM796',\n",
       " 'LM797',\n",
       " 'LM962',\n",
       " 'LM963'}"
      ]
     },
     "execution_count": 99,
     "metadata": {},
     "output_type": "execute_result"
    }
   ],
   "source": [
    "#该月份统计路段出现null\n",
    "set(trafficV[trafficV['Flow'].isnull()]['LinkRef'])"
   ]
  },
  {
   "cell_type": "code",
   "execution_count": 100,
   "metadata": {
    "scrolled": true
   },
   "outputs": [
    {
     "data": {
      "text/html": [
       "<div>\n",
       "<style scoped>\n",
       "    .dataframe tbody tr th:only-of-type {\n",
       "        vertical-align: middle;\n",
       "    }\n",
       "\n",
       "    .dataframe tbody tr th {\n",
       "        vertical-align: top;\n",
       "    }\n",
       "\n",
       "    .dataframe thead th {\n",
       "        text-align: right;\n",
       "    }\n",
       "</style>\n",
       "<table border=\"1\" class=\"dataframe\">\n",
       "  <thead>\n",
       "    <tr style=\"text-align: right;\">\n",
       "      <th></th>\n",
       "      <th>LinkRef</th>\n",
       "      <th>Date</th>\n",
       "      <th>TimePeriod</th>\n",
       "      <th>Flow</th>\n",
       "      <th>xCoordinate</th>\n",
       "      <th>yCoordinate</th>\n",
       "    </tr>\n",
       "  </thead>\n",
       "  <tbody>\n",
       "    <tr>\n",
       "      <th>0</th>\n",
       "      <td>LM997</td>\n",
       "      <td>2013-01-31 00:00:00</td>\n",
       "      <td>14</td>\n",
       "      <td>150.5</td>\n",
       "      <td>15</td>\n",
       "      <td>3</td>\n",
       "    </tr>\n",
       "    <tr>\n",
       "      <th>1</th>\n",
       "      <td>LM997</td>\n",
       "      <td>2013-01-31 00:00:00</td>\n",
       "      <td>15</td>\n",
       "      <td>156.0</td>\n",
       "      <td>15</td>\n",
       "      <td>3</td>\n",
       "    </tr>\n",
       "    <tr>\n",
       "      <th>2</th>\n",
       "      <td>LM997</td>\n",
       "      <td>2013-01-31 00:00:00</td>\n",
       "      <td>16</td>\n",
       "      <td>149.5</td>\n",
       "      <td>15</td>\n",
       "      <td>3</td>\n",
       "    </tr>\n",
       "    <tr>\n",
       "      <th>3</th>\n",
       "      <td>LM997</td>\n",
       "      <td>2013-01-31 00:00:00</td>\n",
       "      <td>17</td>\n",
       "      <td>173.0</td>\n",
       "      <td>15</td>\n",
       "      <td>3</td>\n",
       "    </tr>\n",
       "    <tr>\n",
       "      <th>4</th>\n",
       "      <td>LM997</td>\n",
       "      <td>2013-01-31 00:00:00</td>\n",
       "      <td>18</td>\n",
       "      <td>203.5</td>\n",
       "      <td>15</td>\n",
       "      <td>3</td>\n",
       "    </tr>\n",
       "  </tbody>\n",
       "</table>\n",
       "</div>"
      ],
      "text/plain": [
       "  LinkRef                 Date  TimePeriod   Flow  xCoordinate  yCoordinate\n",
       "0   LM997  2013-01-31 00:00:00          14  150.5           15            3\n",
       "1   LM997  2013-01-31 00:00:00          15  156.0           15            3\n",
       "2   LM997  2013-01-31 00:00:00          16  149.5           15            3\n",
       "3   LM997  2013-01-31 00:00:00          17  173.0           15            3\n",
       "4   LM997  2013-01-31 00:00:00          18  203.5           15            3"
      ]
     },
     "execution_count": 100,
     "metadata": {},
     "output_type": "execute_result"
    }
   ],
   "source": [
    "trafficV = trafficV.merge(matrix_constructor[['LinkRef', 'xCoordinate', 'yCoordinate']], how='right', on='LinkRef')\n",
    "trafficV.head()"
   ]
  },
  {
   "cell_type": "code",
   "execution_count": 101,
   "metadata": {},
   "outputs": [
    {
     "data": {
      "text/plain": [
       "set()"
      ]
     },
     "execution_count": 101,
     "metadata": {},
     "output_type": "execute_result"
    }
   ],
   "source": [
    "#该月份未统计路段\n",
    "set(trafficV[trafficV['Flow'].isnull()]['LinkRef'])"
   ]
  },
  {
   "cell_type": "code",
   "execution_count": 102,
   "metadata": {},
   "outputs": [
    {
     "data": {
      "text/plain": [
       "True"
      ]
     },
     "execution_count": 102,
     "metadata": {},
     "output_type": "execute_result"
    }
   ],
   "source": [
    "#该月份非空待处理数据是否合法\n",
    "96*1024*31==trafficV.notnull().shape[0]"
   ]
  },
  {
   "cell_type": "code",
   "execution_count": 103,
   "metadata": {},
   "outputs": [
    {
     "data": {
      "text/plain": [
       "2976"
      ]
     },
     "execution_count": 103,
     "metadata": {},
     "output_type": "execute_result"
    }
   ],
   "source": [
    "96*31"
   ]
  },
  {
   "cell_type": "code",
   "execution_count": 104,
   "metadata": {},
   "outputs": [],
   "source": [
    "trafficV['Time'] = pd.to_datetime(trafficV['Date'])+ pd.Timedelta(15, unit='m') * trafficV['TimePeriod']\n",
    "trafficV.drop(['Date', 'TimePeriod'], axis=1, inplace=True)"
   ]
  },
  {
   "cell_type": "code",
   "execution_count": 105,
   "metadata": {},
   "outputs": [],
   "source": [
    "trafficV['Time'] = trafficV['Time'].astype('datetime64[ns]')"
   ]
  },
  {
   "cell_type": "code",
   "execution_count": 106,
   "metadata": {},
   "outputs": [
    {
     "data": {
      "text/plain": [
       "dtype('<M8[ns]')"
      ]
     },
     "execution_count": 106,
     "metadata": {},
     "output_type": "execute_result"
    }
   ],
   "source": [
    "trafficV['Time'].dtype"
   ]
  },
  {
   "cell_type": "code",
   "execution_count": 107,
   "metadata": {},
   "outputs": [],
   "source": [
    "# trafficV.to_csv('./data/trafficV201301.csv', index=False)"
   ]
  },
  {
   "cell_type": "code",
   "execution_count": 108,
   "metadata": {},
   "outputs": [],
   "source": [
    "trafficV = pd.read_csv('./data/trafficV201301.csv')"
   ]
  },
  {
   "cell_type": "code",
   "execution_count": 109,
   "metadata": {},
   "outputs": [
    {
     "data": {
      "text/html": [
       "<div>\n",
       "<style scoped>\n",
       "    .dataframe tbody tr th:only-of-type {\n",
       "        vertical-align: middle;\n",
       "    }\n",
       "\n",
       "    .dataframe tbody tr th {\n",
       "        vertical-align: top;\n",
       "    }\n",
       "\n",
       "    .dataframe thead th {\n",
       "        text-align: right;\n",
       "    }\n",
       "</style>\n",
       "<table border=\"1\" class=\"dataframe\">\n",
       "  <thead>\n",
       "    <tr style=\"text-align: right;\">\n",
       "      <th></th>\n",
       "      <th>LinkRef</th>\n",
       "      <th>Flow</th>\n",
       "      <th>xCoordinate</th>\n",
       "      <th>yCoordinate</th>\n",
       "      <th>Time</th>\n",
       "    </tr>\n",
       "  </thead>\n",
       "  <tbody>\n",
       "    <tr>\n",
       "      <th>0</th>\n",
       "      <td>LM997</td>\n",
       "      <td>150.5</td>\n",
       "      <td>15</td>\n",
       "      <td>3</td>\n",
       "      <td>2013-01-31 03:30:00</td>\n",
       "    </tr>\n",
       "    <tr>\n",
       "      <th>1</th>\n",
       "      <td>LM997</td>\n",
       "      <td>156.0</td>\n",
       "      <td>15</td>\n",
       "      <td>3</td>\n",
       "      <td>2013-01-31 03:45:00</td>\n",
       "    </tr>\n",
       "    <tr>\n",
       "      <th>2</th>\n",
       "      <td>LM997</td>\n",
       "      <td>149.5</td>\n",
       "      <td>15</td>\n",
       "      <td>3</td>\n",
       "      <td>2013-01-31 04:00:00</td>\n",
       "    </tr>\n",
       "    <tr>\n",
       "      <th>3</th>\n",
       "      <td>LM997</td>\n",
       "      <td>173.0</td>\n",
       "      <td>15</td>\n",
       "      <td>3</td>\n",
       "      <td>2013-01-31 04:15:00</td>\n",
       "    </tr>\n",
       "    <tr>\n",
       "      <th>4</th>\n",
       "      <td>LM997</td>\n",
       "      <td>203.5</td>\n",
       "      <td>15</td>\n",
       "      <td>3</td>\n",
       "      <td>2013-01-31 04:30:00</td>\n",
       "    </tr>\n",
       "  </tbody>\n",
       "</table>\n",
       "</div>"
      ],
      "text/plain": [
       "  LinkRef   Flow  xCoordinate  yCoordinate                 Time\n",
       "0   LM997  150.5           15            3  2013-01-31 03:30:00\n",
       "1   LM997  156.0           15            3  2013-01-31 03:45:00\n",
       "2   LM997  149.5           15            3  2013-01-31 04:00:00\n",
       "3   LM997  173.0           15            3  2013-01-31 04:15:00\n",
       "4   LM997  203.5           15            3  2013-01-31 04:30:00"
      ]
     },
     "execution_count": 109,
     "metadata": {},
     "output_type": "execute_result"
    }
   ],
   "source": [
    "trafficV.head()"
   ]
  }
 ],
 "metadata": {
  "kernelspec": {
   "display_name": "Python 3",
   "language": "python",
   "name": "python3"
  },
  "language_info": {
   "codemirror_mode": {
    "name": "ipython",
    "version": 3
   },
   "file_extension": ".py",
   "mimetype": "text/x-python",
   "name": "python",
   "nbconvert_exporter": "python",
   "pygments_lexer": "ipython3",
   "version": "3.6.4"
  }
 },
 "nbformat": 4,
 "nbformat_minor": 2
}
