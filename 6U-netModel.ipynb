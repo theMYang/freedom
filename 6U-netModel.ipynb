{
 "cells": [
  {
   "cell_type": "code",
   "execution_count": 306,
   "metadata": {},
   "outputs": [
    {
     "name": "stdout",
     "output_type": "stream",
     "text": [
      "The autoreload extension is already loaded. To reload it, use:\n",
      "  %reload_ext autoreload\n"
     ]
    }
   ],
   "source": [
    "import gc\n",
    "from copy import deepcopy\n",
    "import numpy as np\n",
    "import pandas as pd\n",
    "\n",
    "import matplotlib.pyplot as plt\n",
    "from sklearn.model_selection import train_test_split\n",
    "from keras.preprocessing.image import ImageDataGenerator\n",
    "\n",
    "from libs.util import random_mask\n",
    "from libs.pconv_model import PConvUnet\n",
    "from libs.properties import properties\n",
    "\n",
    "# Settings\n",
    "MAX_BATCH_SIZE = 32\n",
    "\n",
    "%matplotlib inline\n",
    "%load_ext autoreload\n",
    "%autoreload 2"
   ]
  },
  {
   "cell_type": "code",
   "execution_count": 307,
   "metadata": {},
   "outputs": [],
   "source": [
    "properties_dict = properties()\n",
    "length = properties_dict[\"length\"]"
   ]
  },
  {
   "cell_type": "code",
   "execution_count": 308,
   "metadata": {},
   "outputs": [
    {
     "data": {
      "text/plain": [
       "(2976, 1024)"
      ]
     },
     "execution_count": 308,
     "metadata": {},
     "output_type": "execute_result"
    }
   ],
   "source": [
    "matrix_df = pd.read_csv('./data/trafficV201301_M.csv', index_col=0, parse_dates=True)\n",
    "matrix_df = np.array(matrix_df)\n",
    "matrix_df.shape"
   ]
  },
  {
   "cell_type": "code",
   "execution_count": 309,
   "metadata": {},
   "outputs": [],
   "source": [
    "train_df = matrix_df.reshape(matrix_df.shape[0], length, length,1)\n",
    "X_train, X_val = train_test_split(train_df, test_size = 0.1, random_state=42)"
   ]
  },
  {
   "cell_type": "code",
   "execution_count": 310,
   "metadata": {},
   "outputs": [],
   "source": [
    "class DataGenerator(ImageDataGenerator):\n",
    "    def flow(self, X, *args, **kwargs):\n",
    "        while True:\n",
    "            \n",
    "            # Get augmentend image samples\n",
    "            ori = next(super().flow(X, *args, **kwargs))\n",
    "    \n",
    "            # Get masks for each image sample\n",
    "            mask = np.stack([random_mask(ori.shape[1], ori.shape[2], size=20) for _ in range(ori.shape[0])], axis=0)\n",
    "\n",
    "            # Apply masks to all image sample\n",
    "            masked = deepcopy(ori)\n",
    "            masked[mask==0] = -1\n",
    "\n",
    "            # Yield ([ori, masl],  ori) training batches\n",
    "            # print(masked.shape, ori.shape)\n",
    "            gc.collect()\n",
    "            yield [masked, mask], ori\n",
    "            \n",
    "train_datagen = DataGenerator()\n",
    "train_generator = train_datagen.flow(\n",
    "    X_train, batch_size=MAX_BATCH_SIZE\n",
    ")\n",
    "\n",
    "# Create validation generator\n",
    "val_datagen = DataGenerator()\n",
    "val_generator = val_datagen.flow(\n",
    "    X_val, batch_size=MAX_BATCH_SIZE\n",
    ")"
   ]
  },
  {
   "cell_type": "code",
   "execution_count": 312,
   "metadata": {},
   "outputs": [
    {
     "name": "stdout",
     "output_type": "stream",
     "text": [
      "Epoch 1/1\n",
      "500/500 [==============================] - 287s 574ms/step - loss: 116196885.7840 - val_loss: 61273694.5600\n",
      "Epoch 2/2\n",
      "500/500 [==============================] - 284s 568ms/step - loss: 45871447.0640 - val_loss: 40234410.9200\n",
      "Epoch 3/3\n",
      "500/500 [==============================] - 281s 563ms/step - loss: 35616674.4280 - val_loss: 32457782.0000\n",
      "Epoch 4/4\n",
      "500/500 [==============================] - 283s 565ms/step - loss: 27507100.2680 - val_loss: 24315673.7200\n",
      "Epoch 5/5\n",
      "500/500 [==============================] - 285s 570ms/step - loss: 20500655.8160 - val_loss: 17582804.1800\n"
     ]
    }
   ],
   "source": [
    "model = PConvUnet()\n",
    "\n",
    "model.fit(\n",
    "    train_generator, \n",
    "    validation_data=val_generator,\n",
    "    steps_per_epoch = 500,\n",
    "    validation_steps=50,\n",
    "    epochs=5\n",
    ")"
   ]
  },
  {
   "cell_type": "code",
   "execution_count": 331,
   "metadata": {},
   "outputs": [
    {
     "data": {
      "text/plain": [
       "13277051.806805186"
      ]
     },
     "execution_count": 331,
     "metadata": {},
     "output_type": "execute_result"
    }
   ],
   "source": [
    "test = X_val[55,np.newaxis,:]\n",
    "\n",
    "test_mask = random_mask(test.shape[1], test.shape[2])\n",
    "test_mask = test_mask[np.newaxis,:]\n",
    "\n",
    "test_mask[0,:,:,0].shape\n",
    "test[test_mask==0] = -1\n",
    "\n",
    "# test_mask.shape\n",
    "# plt.imshow(test[0,:,:,0]*255)\n",
    "\n",
    "test_res = model.predict([test, test_mask])\n",
    "np.sum((test-test_res)**2)"
   ]
  },
  {
   "cell_type": "code",
   "execution_count": 332,
   "metadata": {},
   "outputs": [
    {
     "data": {
      "text/plain": [
       "13277051.806805186"
      ]
     },
     "execution_count": 332,
     "metadata": {},
     "output_type": "execute_result"
    }
   ],
   "source": [
    "np.sum((test-test_res)**2)"
   ]
  },
  {
   "cell_type": "code",
   "execution_count": 333,
   "metadata": {},
   "outputs": [
    {
     "data": {
      "text/plain": [
       "array([[[[128.  ],\n",
       "         [103.5 ],\n",
       "         [106.  ],\n",
       "         ...,\n",
       "         [155.5 ],\n",
       "         [164.5 ],\n",
       "         [136.  ]],\n",
       "\n",
       "        [[ 97.  ],\n",
       "         [137.5 ],\n",
       "         [134.5 ],\n",
       "         ...,\n",
       "         [117.  ],\n",
       "         [101.5 ],\n",
       "         [135.17]],\n",
       "\n",
       "        [[581.  ],\n",
       "         [603.5 ],\n",
       "         [738.  ],\n",
       "         ...,\n",
       "         [319.  ],\n",
       "         [315.75],\n",
       "         [121.63]],\n",
       "\n",
       "        ...,\n",
       "\n",
       "        [[248.5 ],\n",
       "         [296.  ],\n",
       "         [275.63],\n",
       "         ...,\n",
       "         [ 99.5 ],\n",
       "         [130.5 ],\n",
       "         [130.  ]],\n",
       "\n",
       "        [[498.75],\n",
       "         [503.5 ],\n",
       "         [472.5 ],\n",
       "         ...,\n",
       "         [ 89.57],\n",
       "         [130.5 ],\n",
       "         [130.  ]],\n",
       "\n",
       "        [[404.25],\n",
       "         [411.  ],\n",
       "         [506.5 ],\n",
       "         ...,\n",
       "         [114.75],\n",
       "         [ 77.75],\n",
       "         [ 54.19]]]])"
      ]
     },
     "execution_count": 333,
     "metadata": {},
     "output_type": "execute_result"
    }
   ],
   "source": [
    "test"
   ]
  },
  {
   "cell_type": "code",
   "execution_count": 334,
   "metadata": {},
   "outputs": [
    {
     "data": {
      "text/plain": [
       "array([[[[ 67.359886],\n",
       "         [ 79.67486 ],\n",
       "         [ 65.841095],\n",
       "         ...,\n",
       "         [138.99298 ],\n",
       "         [138.11185 ],\n",
       "         [ 93.571884]],\n",
       "\n",
       "        [[147.45096 ],\n",
       "         [236.6901  ],\n",
       "         [236.04326 ],\n",
       "         ...,\n",
       "         [160.43773 ],\n",
       "         [175.7856  ],\n",
       "         [116.8552  ]],\n",
       "\n",
       "        [[438.61798 ],\n",
       "         [582.5236  ],\n",
       "         [555.0709  ],\n",
       "         ...,\n",
       "         [228.96028 ],\n",
       "         [228.94179 ],\n",
       "         [131.78683 ]],\n",
       "\n",
       "        ...,\n",
       "\n",
       "        [[249.90799 ],\n",
       "         [365.1483  ],\n",
       "         [409.99185 ],\n",
       "         ...,\n",
       "         [ 97.713455],\n",
       "         [119.54411 ],\n",
       "         [ 94.05987 ]],\n",
       "\n",
       "        [[376.00986 ],\n",
       "         [500.07422 ],\n",
       "         [491.2203  ],\n",
       "         ...,\n",
       "         [118.95691 ],\n",
       "         [129.91394 ],\n",
       "         [ 91.310646]],\n",
       "\n",
       "        [[299.46558 ],\n",
       "         [444.9208  ],\n",
       "         [465.98157 ],\n",
       "         ...,\n",
       "         [106.42385 ],\n",
       "         [ 84.2543  ],\n",
       "         [ 49.023655]]]], dtype=float32)"
      ]
     },
     "execution_count": 334,
     "metadata": {},
     "output_type": "execute_result"
    }
   ],
   "source": [
    "test_res"
   ]
  }
 ],
 "metadata": {
  "kernelspec": {
   "display_name": "Python 3",
   "language": "python",
   "name": "python3"
  },
  "language_info": {
   "codemirror_mode": {
    "name": "ipython",
    "version": 3
   },
   "file_extension": ".py",
   "mimetype": "text/x-python",
   "name": "python",
   "nbconvert_exporter": "python",
   "pygments_lexer": "ipython3",
   "version": "3.6.4"
  }
 },
 "nbformat": 4,
 "nbformat_minor": 2
}
