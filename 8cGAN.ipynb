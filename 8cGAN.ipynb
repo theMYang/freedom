{
 "cells": [
  {
   "cell_type": "code",
   "execution_count": 3,
   "metadata": {},
   "outputs": [],
   "source": [
    "import math\n",
    "import numpy as np \n",
    "\n",
    "def l2(y_true, y_pred):\n",
    "    return math.sqrt(np.sum(np.mean(np.square(y_true - y_pred), axis=0))/9)"
   ]
  },
  {
   "cell_type": "code",
   "execution_count": 162,
   "metadata": {
    "scrolled": true
   },
   "outputs": [
    {
     "data": {
      "text/plain": [
       "array([[[[ 1.,  2.],\n",
       "         [ 4., 13.]],\n",
       "\n",
       "        [[ 7., 18.],\n",
       "         [10., 15.]]],\n",
       "\n",
       "\n",
       "       [[[ 2.,  4.],\n",
       "         [ 5., 17.]],\n",
       "\n",
       "        [[18., 10.],\n",
       "         [11., 13.]]]])"
      ]
     },
     "execution_count": 162,
     "metadata": {},
     "output_type": "execute_result"
    }
   ],
   "source": [
    "# a = np.array([[[[1, 2, 3], [4, 13, 16]],[[7, 18, 19], [10, 15, 12]]], [[[2, 4, 6], [5, 17, 19]],[[18, 10, 12], [11, 13, 15]]]])\n",
    "# b = np.array([[[[4], [5], [6]],[[0],[1],[2]],[[9],[8],[7]]], [[[4], [5], [6]],[[0],[1],[2]],[[9],[8],[7]]]])\n",
    "a = np.array([[[[1., 2.], [4., 13.]],[[7., 18.], [10., 15.]]], [[[2., 4.], [5., 17.]],[[18., 10.], [11., 13.]]]])\n",
    "\n",
    "a"
   ]
  },
  {
   "cell_type": "code",
   "execution_count": 168,
   "metadata": {
    "scrolled": false
   },
   "outputs": [
    {
     "data": {
      "text/plain": [
       "array([[[[-0.5       , -0.625     ],\n",
       "         [-0.16666667,  0.0625    ]],\n",
       "\n",
       "        [[ 0.16666667,  0.375     ],\n",
       "         [ 0.5       ,  0.1875    ]]],\n",
       "\n",
       "\n",
       "       [[[-0.4375    , -0.53846154],\n",
       "         [-0.25      ,  0.46153846]],\n",
       "\n",
       "        [[ 0.5625    , -0.07692308],\n",
       "         [ 0.125     ,  0.15384615]]]])"
      ]
     },
     "execution_count": 168,
     "metadata": {},
     "output_type": "execute_result"
    }
   ],
   "source": [
    "a = np.array([[[[1., 2.], [4., 13.]],[[7., 18.], [10., 15.]]], [[[2., 4.], [5., 17.]],[[18., 10.], [11., 13.]]]])\n",
    "\n",
    "def normalization(matrix):\n",
    "    for i in range(len(matrix)):\n",
    "        for j in range(matrix.shape[-1]):\n",
    "            cur_time = matrix[i][:, :, j]\n",
    "            mean_val = cur_time.mean()\n",
    "            mx = cur_time.max()\n",
    "            mn = cur_time.min()\n",
    "            matrix[i][:, :, j] = np.divide((cur_time-mean_val), (mx-mn))\n",
    "    return matrix\n",
    "\n",
    "normalization(a)"
   ]
  },
  {
   "cell_type": "code",
   "execution_count": 167,
   "metadata": {},
   "outputs": [
    {
     "data": {
      "text/plain": [
       "array([-0.53846154,  0.46153846, -0.07692308,  0.15384615])"
      ]
     },
     "execution_count": 167,
     "metadata": {},
     "output_type": "execute_result"
    }
   ],
   "source": [
    "def guiyi(array):\n",
    "    mean = array.mean()\n",
    "    mx = array.max()\n",
    "    mn = array.min()\n",
    "    return (array-mean)/(mx-mn)\n",
    "\n",
    "array = np.array([4,17,10,13])\n",
    "guiyi(array)"
   ]
  },
  {
   "cell_type": "code",
   "execution_count": 163,
   "metadata": {},
   "outputs": [
    {
     "data": {
      "text/plain": [
       "0.3888888888888889"
      ]
     },
     "execution_count": 163,
     "metadata": {},
     "output_type": "execute_result"
    }
   ],
   "source": [
    "3.5/9"
   ]
  }
 ],
 "metadata": {
  "kernelspec": {
   "display_name": "Python 3",
   "language": "python",
   "name": "python3"
  },
  "language_info": {
   "codemirror_mode": {
    "name": "ipython",
    "version": 3
   },
   "file_extension": ".py",
   "mimetype": "text/x-python",
   "name": "python",
   "nbconvert_exporter": "python",
   "pygments_lexer": "ipython3",
   "version": "3.6.4"
  }
 },
 "nbformat": 4,
 "nbformat_minor": 2
}
