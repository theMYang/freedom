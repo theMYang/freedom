{
 "cells": [
  {
   "cell_type": "code",
   "execution_count": 74,
   "metadata": {},
   "outputs": [],
   "source": [
    "import math\n",
    "import numpy as np \n",
    "\n",
    "def l1(y_true, y_pred):\n",
    "    return np.mean(np.abs(y_true - y_pred))\n",
    "\n",
    "def l2(y_true, y_pred):\n",
    "    return math.sqrt(np.mean(np.square(y_true - y_pred)))\n",
    "\n",
    "def l2(y_true, y_pred):\n",
    "    return math.sqrt(np.sum(np.mean(np.square(y_true - y_pred), axis=0))/4)"
   ]
  },
  {
   "cell_type": "code",
   "execution_count": 87,
   "metadata": {
    "scrolled": true
   },
   "outputs": [
    {
     "data": {
      "text/plain": [
       "array([[[[ 1.],\n",
       "         [ 1.]],\n",
       "\n",
       "        [[ 4.],\n",
       "         [ 1.]]],\n",
       "\n",
       "\n",
       "       [[[ 1.],\n",
       "         [ 9.]],\n",
       "\n",
       "        [[ 9.],\n",
       "         [25.]]]])"
      ]
     },
     "execution_count": 87,
     "metadata": {},
     "output_type": "execute_result"
    }
   ],
   "source": [
    "# a = np.array([[[[1, 2, 3], [4, 13, 16]],[[7, 18, 19], [10, 15, 12]]], [[[2, 4, 6], [5, 17, 19]],[[18, 10, 12], [11, 13, 15]]]])\n",
    "# b = np.array([[[[4], [5], [6]],[[0],[1],[2]],[[9],[8],[7]]], [[[4], [5], [6]],[[0],[1],[2]],[[9],[8],[7]]]])\n",
    "a = np.array([[[[1.], [4.]],[[7.], [10.]]], [[[2.], [5.]],[[18.], [11.]]]])\n",
    "b = np.array([[[[2.], [3.]],[[5.], [11.]]], [[[1.], [8.]],[[15.], [16.]]]])\n",
    "\n",
    "np.square(a - b)"
   ]
  },
  {
   "cell_type": "code",
   "execution_count": 93,
   "metadata": {},
   "outputs": [
    {
     "data": {
      "text/plain": [
       "array([[[ 1. ],\n",
       "        [ 5. ]],\n",
       "\n",
       "       [[ 6.5],\n",
       "        [13. ]]])"
      ]
     },
     "execution_count": 93,
     "metadata": {},
     "output_type": "execute_result"
    }
   ],
   "source": [
    "np.mean(np.square(a - b), axis=0)"
   ]
  },
  {
   "cell_type": "code",
   "execution_count": 92,
   "metadata": {},
   "outputs": [
    {
     "data": {
      "text/plain": [
       "25.5"
      ]
     },
     "execution_count": 92,
     "metadata": {},
     "output_type": "execute_result"
    }
   ],
   "source": [
    "i=1\n",
    "np.sum(np.mean(np.square(a - b)), axis=0)\n",
    "np.sum(np.mean(np.square(a - b), axis=0))"
   ]
  },
  {
   "cell_type": "code",
   "execution_count": 75,
   "metadata": {},
   "outputs": [
    {
     "data": {
      "text/plain": [
       "2.5248762345905194"
      ]
     },
     "execution_count": 75,
     "metadata": {},
     "output_type": "execute_result"
    }
   ],
   "source": [
    "l2(a, b)"
   ]
  },
  {
   "cell_type": "code",
   "execution_count": 60,
   "metadata": {},
   "outputs": [
    {
     "data": {
      "text/plain": [
       "2.125"
      ]
     },
     "execution_count": 60,
     "metadata": {},
     "output_type": "execute_result"
    }
   ],
   "source": [
    "l1(a, b)"
   ]
  },
  {
   "cell_type": "code",
   "execution_count": 62,
   "metadata": {},
   "outputs": [
    {
     "data": {
      "text/plain": [
       "6.375"
      ]
     },
     "execution_count": 62,
     "metadata": {},
     "output_type": "execute_result"
    }
   ],
   "source": [
    "51/8"
   ]
  },
  {
   "cell_type": "code",
   "execution_count": 9,
   "metadata": {
    "scrolled": false
   },
   "outputs": [],
   "source": [
    "# a = np.array([[[[1., 2.], [4., 13.]],[[7., 18.], [10., 15.]]], [[[2., 4.], [5., 17.]],[[18., 10.], [11., 13.]]]])\n",
    "\n",
    "# def normalization(matrix):\n",
    "#     for i in range(len(matrix)):\n",
    "#         for j in range(matrix.shape[-1]):\n",
    "#             cur_time = matrix[i][:, :, j]\n",
    "#             mean_val = cur_time.mean()\n",
    "#             mx = cur_time.max()\n",
    "#             mn = cur_time.min()\n",
    "#             matrix[i][:, :, j] = np.divide((cur_time-mean_val), (mx-mn))\n",
    "#     return matrix\n",
    "\n",
    "# normalization(a)"
   ]
  }
 ],
 "metadata": {
  "kernelspec": {
   "display_name": "Python 3",
   "language": "python",
   "name": "python3"
  },
  "language_info": {
   "codemirror_mode": {
    "name": "ipython",
    "version": 3
   },
   "file_extension": ".py",
   "mimetype": "text/x-python",
   "name": "python",
   "nbconvert_exporter": "python",
   "pygments_lexer": "ipython3",
   "version": "3.6.4"
  }
 },
 "nbformat": 4,
 "nbformat_minor": 2
}
