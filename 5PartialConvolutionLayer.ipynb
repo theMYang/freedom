{
 "cells": [
  {
   "cell_type": "code",
   "execution_count": null,
   "metadata": {},
   "outputs": [],
   "source": [
    "from copy import deepcopy\n",
    "import numpy as np\n",
    "import pandas as pd\n",
    "import random\n",
    "\n",
    "import matplotlib.pyplot as plt\n",
    "\n",
    "from keras.layers import Input, Dense\n",
    "from keras.models import Model\n",
    "\n",
    "# Import modules from libs/ directory\n",
    "from libs.pconv_layer import PConv2D\n",
    "from libs.util import random_mask\n",
    "\n",
    "%matplotlib inline\n",
    "%load_ext autoreload\n",
    "%autoreload 2\n",
    "plt.rcParams['figure.figsize'] = (9.0, 9.0) # 设置figure_size尺寸"
   ]
  },
  {
   "cell_type": "code",
   "execution_count": null,
   "metadata": {},
   "outputs": [],
   "source": [
    "matrix_df = pd.read_csv('./data/trafficV201301_M.csv', index_col=0, parse_dates=True)\n",
    "matrix_df.shape"
   ]
  },
  {
   "cell_type": "code",
   "execution_count": null,
   "metadata": {},
   "outputs": [],
   "source": [
    "num = random.randint(0, matrix_df.shape[0])\n",
    "pic_matrix = matrix_df.iloc[num].reshape(32, 32, 1)\n",
    "# pic_matrix = (pic_matrix - pic_matrix.min())/(pic_matrix.max() - pic_matrix.min())*255\n",
    "print((num%96)*15/60)\n",
    "plt.imshow(pic_matrix[:,:,0])"
   ]
  },
  {
   "cell_type": "code",
   "execution_count": null,
   "metadata": {},
   "outputs": [],
   "source": [
    "# ??random_mask"
   ]
  },
  {
   "cell_type": "code",
   "execution_count": null,
   "metadata": {},
   "outputs": [],
   "source": [
    "pic_shape = pic_matrix.shape\n",
    "# Load mask\n",
    "mask = random_mask(pic_shape[0], pic_shape[1], size=0.3)\n",
    "# mask = random_mask(pic_shape[0], pic_shape[1], size=0.9, type='block', block_size=(25, 25))\n",
    "\n",
    "# Image + mask\n",
    "masked_img = deepcopy(pic_matrix)\n",
    "# masked_img = (pic_matrix - pic_matrix.min())/(pic_matrix.max() - pic_matrix.min())*255\n",
    "masked_img[mask==0] = 255\n",
    "\n",
    "# Show side by side\n",
    "_, axes = plt.subplots(1, 3, figsize=(20, 5))\n",
    "axes[0].imshow(pic_matrix[:,:,0])\n",
    "axes[1].imshow(mask[:,:,0]*255, cmap ='gray')\n",
    "axes[2].imshow(masked_img[:,:,0])"
   ]
  },
  {
   "cell_type": "code",
   "execution_count": null,
   "metadata": {},
   "outputs": [],
   "source": [
    "pic_shape"
   ]
  },
  {
   "cell_type": "code",
   "execution_count": null,
   "metadata": {},
   "outputs": [],
   "source": [
    "# Input images and masks\n",
    "input_img = Input(shape=(pic_shape[0], pic_shape[1], pic_shape[2],))\n",
    "input_mask = Input(shape=(pic_shape[0], pic_shape[1], pic_shape[2],))\n",
    "output_img, output_mask1 = PConv2D(8, kernel_size=(3,3), strides=(2,2), padding='same')([input_img, input_mask])\n",
    "output_img, output_mask2 = PConv2D(16, kernel_size=(3,3), strides=(2,2), padding='same')([output_img, output_mask1])\n",
    "output_img, output_mask3 = PConv2D(32, kernel_size=(3,3), strides=(2,2), padding='same')([output_img, output_mask2])\n",
    "# output_img, output_mask4 = PConv2D(64, kernel_size=(3,3), strides=(2,2))([output_img, output_mask3])\n",
    "\n",
    "# Create model\n",
    "model = Model(\n",
    "    inputs=[input_img, input_mask], \n",
    "    outputs=[\n",
    "        output_img, output_mask1, output_mask2, output_mask3\n",
    "    ])\n",
    "model.compile(optimizer='rmsprop', loss='categorical_crossentropy', metrics=['accuracy'])\n",
    "\n",
    "# Show summary of the model\n",
    "# model.summary()"
   ]
  },
  {
   "cell_type": "markdown",
   "metadata": {},
   "source": [
    "Check mask layer updates"
   ]
  },
  {
   "cell_type": "code",
   "execution_count": null,
   "metadata": {},
   "outputs": [],
   "source": [
    "formatted_img = np.expand_dims(masked_img, axis=0)\n",
    "formatted_mask = np.expand_dims(mask, axis=0)\n",
    "print(f\"Original Mask Shape: {formatted_mask.shape} - Max value in mask: {np.max(formatted_mask)}\")\n",
    "\n",
    "output_img, o1, o2, o3 = model.predict([formatted_img, formatted_mask])"
   ]
  },
  {
   "cell_type": "code",
   "execution_count": null,
   "metadata": {},
   "outputs": [],
   "source": [
    "o3.shape"
   ]
  },
  {
   "cell_type": "code",
   "execution_count": null,
   "metadata": {},
   "outputs": [],
   "source": [
    "_, axes = plt.subplots(1, 3, figsize=(20, 10))\n",
    "axes[0].imshow(o1[0, :,:, 0], cmap = 'gray', vmin=0, vmax=1)\n",
    "axes[1].imshow(o2[0, :,:, 0], cmap = 'gray', vmin=0, vmax=1)\n",
    "axes[2].imshow(o3[0, :,:, 0], cmap = 'gray', vmin=0, vmax=1)\n",
    "\n",
    "axes[0].set_title(f\"Shape: {o1.shape}\")\n",
    "axes[1].set_title(f\"Shape: {o2.shape}\")\n",
    "axes[2].set_title(f\"Shape: {o3.shape}\")\n"
   ]
  }
 ],
 "metadata": {
  "kernelspec": {
   "display_name": "Python 3",
   "language": "python",
   "name": "python3"
  },
  "language_info": {
   "codemirror_mode": {
    "name": "ipython",
    "version": 3
   },
   "file_extension": ".py",
   "mimetype": "text/x-python",
   "name": "python",
   "nbconvert_exporter": "python",
   "pygments_lexer": "ipython3",
   "version": "3.6.4"
  }
 },
 "nbformat": 4,
 "nbformat_minor": 2
}
