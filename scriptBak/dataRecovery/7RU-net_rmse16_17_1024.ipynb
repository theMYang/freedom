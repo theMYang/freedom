{
 "cells": [
  {
   "cell_type": "code",
   "execution_count": 16,
   "metadata": {
    "_cell_guid": "b1076dfc-b9ad-4769-8c92-a6c4dae69d19",
    "_uuid": "8f2839f25d086af736a60e9eeb907d3b93b6e0e5"
   },
   "outputs": [
    {
     "name": "stdout",
     "output_type": "stream",
     "text": [
      "The autoreload extension is already loaded. To reload it, use:\n",
      "  %reload_ext autoreload\n"
     ]
    }
   ],
   "source": [
    "import gc\n",
    "from copy import deepcopy\n",
    "import numpy as np\n",
    "import pandas as pd\n",
    "from random import randint\n",
    "\n",
    "import matplotlib.pyplot as plt\n",
    "from sklearn.model_selection import train_test_split\n",
    "from keras.preprocessing.image import ImageDataGenerator\n",
    "from keras.callbacks import ReduceLROnPlateau, LearningRateScheduler, TensorBoard\n",
    "from keras import backend as K\n",
    "from sklearn.model_selection import TimeSeriesSplit\n",
    "\n",
    "from datetime import datetime\n",
    "from keras.models import Model\n",
    "from keras.models import load_model\n",
    "from keras.optimizers import Adam, RMSprop\n",
    "from keras.layers import Input, Conv2D, UpSampling2D, Dropout, LeakyReLU, BatchNormalization, Activation, Add, Subtract\n",
    "from keras.layers.merge import Concatenate\n",
    "from keras.layers.pooling import MaxPooling2D, AveragePooling2D\n",
    "# from keras.applications import VGG16\n",
    "from keras import initializers\n",
    "from keras import regularizers\n",
    "from keras import backend as K\n",
    "\n",
    "# from libs.pconv_model_UNet import PConvUnet\n",
    "from keras.models import load_model  \n",
    "\n",
    "from copy import deepcopy\n",
    "from libs.util import random_mask\n",
    "\n",
    "# Settings\n",
    "MAX_BATCH_SIZE = 32\n",
    "\n",
    "%matplotlib inline\n",
    "%load_ext autoreload\n",
    "%autoreload 2"
   ]
  },
  {
   "cell_type": "code",
   "execution_count": 17,
   "metadata": {
    "_cell_guid": "79c7e3d0-c299-4dcb-8224-4455121ee9b0",
    "_uuid": "d629ff2d2480ee46fbb7e2d37f6b5fab8052498a"
   },
   "outputs": [],
   "source": [
    "matrix_length = 32\n",
    "\n",
    "matrix_df = pd.read_csv('./data/trafficV_M.csv', index_col=0, parse_dates=True)"
   ]
  },
  {
   "cell_type": "code",
   "execution_count": 18,
   "metadata": {},
   "outputs": [],
   "source": [
    "\n",
    "def createTrainArray(week_history_num=0, minute_history_num=0):\n",
    "    week_delta_list = [pd.Timedelta(i+1, unit='W') for i in range(week_history_num)]\n",
    "    minute_delta_list = [pd.Timedelta((i+1)*15, unit='m') for i in range(minute_history_num)]\n",
    "    # 参考历史数据时间点list\n",
    "    delta_list = week_delta_list+minute_delta_list\n",
    "    print(delta_list)\n",
    "    \n",
    "    set_up_time = pd.Timedelta(week_history_num, unit='W')\n",
    "    # 根据历史数据选取多少，重新构建数据集\n",
    "    # 相当于去除最开始week_history_num个周的数据，因为这些数据无法找到更前的数据\n",
    "    train_df = matrix_df.truncate(before=matrix_df.index.min() + set_up_time)\n",
    "    \n",
    "    train_ago_array_tuple = tuple([np.array(matrix_df.loc[train_df.index - i]).reshape(-1, matrix_length, matrix_length, 1) for i in delta_list])\n",
    "    train_df = np.array(train_df).reshape(-1, matrix_length, matrix_length, 1)\n",
    "    # concatenate保持 待修复数据在前，参考历史数据在后。与random_mask函数生成mask相一致\n",
    "    train_array = np.concatenate((train_df,)+train_ago_array_tuple, axis=3)\n",
    "    print(train_array.shape)\n",
    "    return train_array"
   ]
  },
  {
   "cell_type": "code",
   "execution_count": 19,
   "metadata": {},
   "outputs": [
    {
     "name": "stdout",
     "output_type": "stream",
     "text": [
      "[Timedelta('7 days 00:00:00'), Timedelta('14 days 00:00:00'), Timedelta('0 days 00:15:00'), Timedelta('0 days 00:30:00')]\n",
      "(16032, 32, 32, 5)\n"
     ]
    }
   ],
   "source": [
    "week_history_num = 2\n",
    "minute_history_num = 3\n",
    "\n",
    "channel_num = week_history_num +minute_history_num +1\n",
    "smooth_time = channel_num-1\n",
    "\n",
    "train_array = createTrainArray(week_history_num, minute_history_num)\n",
    "X_train, X_test = train_test_split(train_array, test_size = 0.1, shuffle=False)\n",
    "# X_train, X_test = train_test_split(train_array, test_size = 0.1, random_state=42, shuffle=False)\n",
    "\n",
    "# X_train = train_array[:16704-900-900]\n",
    "# X_val = train_array[16704-900-900:16704-900]\n",
    "# X_test = train_array[16704-900:]"
   ]
  },
  {
   "cell_type": "code",
   "execution_count": 20,
   "metadata": {},
   "outputs": [],
   "source": [
    "matrix_shape = (matrix_length, matrix_length, channel_num)\n",
    "true_volume_shape = (matrix_length, matrix_length, 1)\n",
    "history_volume_shape = (matrix_length, matrix_length, channel_num)"
   ]
  },
  {
   "cell_type": "code",
   "execution_count": 21,
   "metadata": {},
   "outputs": [
    {
     "data": {
      "text/plain": [
       "(450, 50)"
      ]
     },
     "execution_count": 21,
     "metadata": {},
     "output_type": "execute_result"
    }
   ],
   "source": [
    "epoch_steps = X_train.shape[0] // MAX_BATCH_SIZE\n",
    "val_steps = X_test.shape[0] // MAX_BATCH_SIZE\n",
    "epoch_steps, val_steps"
   ]
  },
  {
   "cell_type": "code",
   "execution_count": 22,
   "metadata": {},
   "outputs": [],
   "source": [
    "# 以第一数据为例. 第一列为待预测数据\n",
    "# 第一例：1.15 0:00  二：1.8 0:00  三：1.1 0:00  四：1.14 23:45  五：1.14 23:30  六：1.14 23:15\n",
    "# X_train[0]"
   ]
  },
  {
   "cell_type": "code",
   "execution_count": 23,
   "metadata": {},
   "outputs": [],
   "source": [
    "rand_size = 1024\n",
    "mask_type = 'rand'\n",
    "block_size = (32, 32)\n",
    "\n",
    "# 单个矩阵mask\n",
    "rand_mask = random_mask(matrix_length, matrix_length, size=rand_size, channels=channel_num, smooth_time=smooth_time, type=mask_type, block_size=block_size)\n",
    "# 堆叠成多个mask，方便对batch数据进行处理\n",
    "mask = np.stack([rand_mask for _ in range(MAX_BATCH_SIZE)], axis=0)"
   ]
  },
  {
   "cell_type": "code",
   "execution_count": 24,
   "metadata": {},
   "outputs": [],
   "source": [
    "import math\n",
    "def l2(y_true, y_pred):\n",
    "    size = 0\n",
    "    if rand_size<=1:\n",
    "        size = int((matrix_length * matrix_length) * rand_size)\n",
    "    else:\n",
    "        size = rand_size\n",
    "        \n",
    "    if size == 0:\n",
    "        raise Exception(\"size == 0\")\n",
    "    return math.sqrt(np.sum(np.mean(np.square(y_true - y_pred), axis=0))/size)"
   ]
  },
  {
   "cell_type": "code",
   "execution_count": 25,
   "metadata": {},
   "outputs": [],
   "source": [
    "# 加载数据\n",
    "def load_data(volume_matrix, batch_size=MAX_BATCH_SIZE):\n",
    "    n_batches=batch_size\n",
    "    len_of_matrix = len(volume_matrix)\n",
    "\n",
    "    batch_i = 0\n",
    "    while ((batch_i+1)*batch_size < len_of_matrix):\n",
    "        batch_matrix = volume_matrix[batch_i*batch_size: (batch_i+1)*batch_size]\n",
    "        masked = deepcopy(batch_matrix)\n",
    "        # true_volume为待修复数据， history_volume为历史数据及当前残差待修复数据\n",
    "        true_volume = deepcopy(batch_matrix[:, :, :, :1])\n",
    "        # mask==1代表有效采集点，0代表待预测采集点\n",
    "        traffic_mean = masked[mask==1].mean()\n",
    "        # 待预测点的值用已知值的平均值初始化\n",
    "        masked[mask==0] = traffic_mean\n",
    "        history_volume = deepcopy(masked)\n",
    "        \n",
    "        batch_i+=1\n",
    "\n",
    "        yield true_volume, history_volume"
   ]
  },
  {
   "cell_type": "code",
   "execution_count": 26,
   "metadata": {},
   "outputs": [],
   "source": [
    "def l2_loss(y_true, y_pred):\n",
    "        \"\"\"Calculate the L1 loss used in all loss calculations\"\"\"\n",
    "        if K.ndim(y_true) == 4:\n",
    "            return K.sum(K.square(y_pred - y_true), axis=[1,2,3])\n",
    "        elif K.ndim(y_true) == 3:\n",
    "            return K.sum(K.square(y_pred - y_true), axis=[1,2])\n",
    "        else:\n",
    "            raise NotImplementedError(\"Calculating L1 loss on 1D tensors? should not occur for this network\")\n",
    "\n",
    "# 缺失点mse\n",
    "def loss_hole(y_true, y_pred):\n",
    "    return l2_loss((1-mask) * y_true, (1-mask) * y_pred)\n",
    "\n",
    "# 非缺失点mse\n",
    "def loss_bg(y_true, y_pred):\n",
    "    return l2_loss(mask * y_true, mask * y_pred)\n",
    "\n",
    "def loss_fuc(y_true, y_pred):\n",
    "    return loss_hole(y_true, y_pred)*3 + loss_bg(y_true, y_pred)"
   ]
  },
  {
   "cell_type": "code",
   "execution_count": 27,
   "metadata": {},
   "outputs": [],
   "source": [
    "kernel_init = 'glorot_uniform'\n",
    "bias_init = 'zeros'\n",
    "\n",
    "# kernel_init = initializers.he_uniform()\n",
    "# bias_init = initializers.he_uniform()\n",
    "kernel_regul = regularizers.l2(1)\n",
    "activity_regul = regularizers.l2(1)\n",
    "\n",
    "learn_rate = 0.0004\n",
    "\n",
    "# ResNet block\n",
    "def identity_block(X, filters, f):\n",
    "\n",
    "    F1, F2 = filters\n",
    "\n",
    "    X_shortcut = X\n",
    "\n",
    "    X = BatchNormalization(axis=3)(X)\n",
    "    X = Activation('relu')(X)\n",
    "    X = Conv2D(filters=F1, kernel_size=(f, f), strides=(1, 1), padding='same',\n",
    "               kernel_initializer=kernel_init, bias_initializer=bias_init,\n",
    "              kernel_regularizer=kernel_regul, bias_regularizer=activity_regul)(X)\n",
    "\n",
    "    X = BatchNormalization(axis=3)(X)\n",
    "    X = Activation('relu')(X)\n",
    "    X = Conv2D(filters=F2, kernel_size=(f, f), strides=(1, 1), padding='same',\n",
    "               kernel_initializer=kernel_init, bias_initializer=bias_init,\n",
    "              kernel_regularizer=kernel_regul, bias_regularizer=activity_regul)(X)\n",
    "\n",
    "    X = Add()([X, X_shortcut])\n",
    "    X = Activation('relu')(X)\n",
    "\n",
    "    return X\n",
    "\n",
    "# ENCODER\n",
    "def encoder_layer(img_in, filters, kernel_size, bn=True, resid=True):\n",
    "    # conv = Conv2D(filters=filters, kernel_size=kernel_size, strides=(1, 1), padding='same')(img_in)\n",
    "    conv = img_in\n",
    "    if bn:\n",
    "        conv = BatchNormalization()(conv)\n",
    "    conv = Activation('relu')(conv)\n",
    "#             conv = MaxPooling2D((2, 2))(conv)\n",
    "\n",
    "\n",
    "    if resid:\n",
    "        conv = identity_block(conv, (filters, filters), kernel_size)\n",
    "\n",
    "    return conv\n",
    "\n",
    "# DECODER\n",
    "def decoder_layer(img_in, e_conv, filters, kernel_size, bn=True, resid=True):\n",
    "    # up_img = UpSampling2D(size=(2,2))(img_in)\n",
    "    up_img = img_in\n",
    "    concat_img = Concatenate(axis=3)([e_conv,up_img])\n",
    "    conv = Conv2D(filters=filters, kernel_size=kernel_size, strides=(1, 1), padding='same',\n",
    "                  kernel_initializer=kernel_init, bias_initializer=bias_init,\n",
    "              kernel_regularizer=kernel_regul, bias_regularizer=activity_regul)(concat_img)\n",
    "    if bn:\n",
    "        conv = BatchNormalization()(conv)\n",
    "    conv = LeakyReLU(alpha=0.1)(conv)\n",
    "\n",
    "    if resid:\n",
    "        conv = identity_block(conv, (filters, filters), kernel_size)\n",
    "    return conv\n",
    "\n",
    "\n",
    "\n",
    "def build_unet():      \n",
    "\n",
    "    # INPUTS\n",
    "    history_traffic_volume = Input(shape=history_volume_shape)\n",
    "\n",
    "    # kernel_init = initializers.he_normal()\n",
    "    # bias_init = initializers.he_normal()\n",
    "    kernel_init = 'glorot_uniform'\n",
    "    bias_init = 'zeros'\n",
    "\n",
    "#         kernel_init = initializers.he_uniform()\n",
    "#         bias_init = 'Orthogonal'\n",
    "    kernel_regul = regularizers.l2(1)\n",
    "    activity_regul = regularizers.l2(1)\n",
    "\n",
    "    filters_base = 32\n",
    "    e_conv1_head = Conv2D(filters=filters_base, kernel_size=3, strides=1, padding='same',\n",
    "                          kernel_initializer=kernel_init, bias_initializer=bias_init,\n",
    "                  kernel_regularizer=kernel_regul, bias_regularizer=activity_regul)(history_traffic_volume)\n",
    "#         e_conv1_head = Conv2D(filters=filters_base*1, kernel_size=3, strides=1, padding='same',\n",
    "#                               kernel_initializer=kernel_init, bias_initializer=bias_init,\n",
    "#                       kernel_regularizer=kernel_regul, bias_regularizer=activity_regul)(e_conv1_head)\n",
    "    e_conv1_tail = AveragePooling2D((2, 2))(e_conv1_head)\n",
    "    e_conv1 = encoder_layer(e_conv1_tail, filters_base, 3, bn=False)\n",
    "\n",
    "    e_conv2_head = Conv2D(filters=filters_base*2, kernel_size=3, strides=1, padding='same',\n",
    "                          kernel_initializer=kernel_init, bias_initializer=bias_init,\n",
    "                  kernel_regularizer=kernel_regul, bias_regularizer=activity_regul)(e_conv1)\n",
    "    e_conv2_tail = AveragePooling2D((2, 2))(e_conv2_head)\n",
    "    e_conv2 = encoder_layer(e_conv2_tail, filters_base*2, 3)\n",
    "\n",
    "    e_conv3_head = Conv2D(filters=filters_base*4, kernel_size=3, strides=1, padding='same',\n",
    "                          kernel_initializer=kernel_init, bias_initializer=bias_init,\n",
    "                  kernel_regularizer=kernel_regul, bias_regularizer=activity_regul)(e_conv2)\n",
    "    e_conv3_tail = AveragePooling2D((2, 2))(e_conv3_head)\n",
    "    d_conv3_head = encoder_layer(e_conv3_tail, filters_base*4, 3)\n",
    "    resid1 = Add()([e_conv3_tail, d_conv3_head])\n",
    "    d_conv3_tail = UpSampling2D(size=(2, 2))(resid1)\n",
    "\n",
    "\n",
    "    d_conv4_head = decoder_layer(d_conv3_tail, e_conv3_head, filters_base*2, 3)\n",
    "    resid2 = Add()([d_conv4_head, e_conv2_tail])\n",
    "    d_conv4_tail = UpSampling2D(size=(2, 2))(resid2)\n",
    "\n",
    "\n",
    "    d_conv5_head = decoder_layer(d_conv4_tail, e_conv2_head, filters_base*1, 3)\n",
    "    resid3 = Add()([d_conv5_head, e_conv1_tail])\n",
    "    d_conv5_tail = UpSampling2D(size=(2, 2))(resid3)\n",
    "\n",
    "    d_conv6_head = decoder_layer(d_conv5_tail, e_conv1_head, filters_base//2, 3, bn=False)\n",
    "\n",
    "\n",
    "    outputs = Conv2D(1, 1, activation = 'relu', kernel_initializer=kernel_init, bias_initializer=bias_init,\n",
    "                  kernel_regularizer=kernel_regul, bias_regularizer=activity_regul)(d_conv6_head)\n",
    "\n",
    "    # Setup the model inputs / outputs\n",
    "    model = Model(inputs=history_traffic_volume, outputs=outputs)\n",
    "\n",
    "    # Compile the model RMSprop\n",
    "    model.compile(\n",
    "        optimizer = Adam(lr=learn_rate),\n",
    "#         loss='mse'\n",
    "        loss = loss_hole\n",
    "    )\n",
    "\n",
    "    return model"
   ]
  },
  {
   "cell_type": "code",
   "execution_count": 28,
   "metadata": {},
   "outputs": [],
   "source": [
    "test_masked = deepcopy(X_test)\n",
    "test_true_volume = deepcopy(X_test[:, :, :, :1])\n",
    "\n",
    "test_length = len(X_test)\n",
    "test_mask = np.stack([rand_mask for _ in range(test_length)], axis=0)\n",
    "\n",
    "test_traffic_mean = X_test[test_mask==1].mean()\n",
    "test_masked[test_mask==0] = test_traffic_mean\n",
    "test_history_volume = deepcopy(test_masked)"
   ]
  },
  {
   "cell_type": "code",
   "execution_count": 31,
   "metadata": {},
   "outputs": [],
   "source": [
    "lr_step = []\n",
    "l2_validation = []\n",
    "\n",
    "unet = build_unet()\n",
    "def train(train_matrix, epochs, batch_size=MAX_BATCH_SIZE, learn_rate=0.01):\n",
    "\n",
    "    start_time = datetime.now()\n",
    "    print(\"train start \"+str(start_time))\n",
    "\n",
    "    for epoch in range(epochs):\n",
    "#         if epoch>2 and epoch % 1 == 0 and epoch != 0:\n",
    "#             if learn_rate>0.0001:\n",
    "#                 if epoch%3==0:\n",
    "#                     learn_rate = 0.6*learn_rate\n",
    "#                 else:\n",
    "#                     learn_rate = 0.8*learn_rate\n",
    "#                 K.set_value(unet.optimizer.lr, learn_rate)\n",
    "                \n",
    "        for batch_i, (true_volume, history_volume) in enumerate(load_data(train_matrix,batch_size)):\n",
    "            # true_volume 真实待预测路网交通量  history_volume 路网交通量历史数据\n",
    "            #  训练 unet\n",
    "            #  训练 Generator\n",
    "            g_loss = unet.train_on_batch(history_volume, true_volume)\n",
    "\n",
    "\n",
    "        elapsed_time = datetime.now() - start_time\n",
    "        # Plot the progress\n",
    "        y_pred = unet.predict(test_history_volume)\n",
    "        \n",
    "        y_true = (1-test_mask[:,:,:,:1])*test_true_volume\n",
    "        y_pred = (1-test_mask[:,:,:,:1])*y_pred\n",
    "        l2_epoch_validation = l2(y_true, y_pred)\n",
    "        \n",
    "        lr_step.append(K.get_value(unet.optimizer.lr))\n",
    "        l2_validation.append(l2_epoch_validation)\n",
    "        if epoch%1==0:\n",
    "#             print(\"unet lr:\"+ str(K.get_value(unet.optimizer.lr)))\n",
    "            print (\"[Epoch %d/%d]  [mse: %f] [G loss: %f] time: %s\" % (epoch+1, epochs,\n",
    "                                                                    l2_epoch_validation,\n",
    "                                                                    g_loss,\n",
    "                                                                    elapsed_time))"
   ]
  },
  {
   "cell_type": "code",
   "execution_count": 32,
   "metadata": {},
   "outputs": [
    {
     "name": "stdout",
     "output_type": "stream",
     "text": [
      "train start 2019-11-10 14:31:17.834337\n",
      "[Epoch 1/100]  [mse: 34.385257] [G loss: 1638772.625000] time: 0:00:34.640318\n",
      "[Epoch 2/100]  [mse: 27.094240] [G loss: 978608.375000] time: 0:00:59.796777\n",
      "[Epoch 3/100]  [mse: 25.812884] [G loss: 816362.000000] time: 0:01:22.623651\n",
      "[Epoch 4/100]  [mse: 25.646218] [G loss: 714850.937500] time: 0:01:45.317562\n",
      "[Epoch 5/100]  [mse: 30.105355] [G loss: 619579.125000] time: 0:02:08.443644\n",
      "[Epoch 6/100]  [mse: 21.838353] [G loss: 557239.625000] time: 0:02:31.677347\n",
      "[Epoch 7/100]  [mse: 21.629581] [G loss: 528117.812500] time: 0:02:54.865561\n",
      "[Epoch 8/100]  [mse: 21.207780] [G loss: 558459.062500] time: 0:03:18.218977\n",
      "[Epoch 9/100]  [mse: 26.787968] [G loss: 533117.625000] time: 0:03:41.441907\n",
      "[Epoch 10/100]  [mse: 21.434207] [G loss: 511114.781250] time: 0:04:04.539307\n",
      "[Epoch 11/100]  [mse: 20.906577] [G loss: 454307.218750] time: 0:04:27.374315\n",
      "[Epoch 12/100]  [mse: 21.501701] [G loss: 430251.125000] time: 0:04:50.327907\n",
      "[Epoch 13/100]  [mse: 20.577675] [G loss: 420540.156250] time: 0:05:13.381072\n",
      "[Epoch 14/100]  [mse: 19.755049] [G loss: 416677.750000] time: 0:05:36.296275\n",
      "[Epoch 15/100]  [mse: 20.791602] [G loss: 386919.281250] time: 0:05:59.284226\n",
      "[Epoch 16/100]  [mse: 20.375298] [G loss: 387661.656250] time: 0:06:22.405482\n",
      "[Epoch 17/100]  [mse: 20.013785] [G loss: 368233.250000] time: 0:06:45.543765\n",
      "[Epoch 18/100]  [mse: 19.296697] [G loss: 347170.468750] time: 0:07:08.497325\n",
      "[Epoch 19/100]  [mse: 19.657976] [G loss: 347988.500000] time: 0:07:31.222780\n",
      "[Epoch 20/100]  [mse: 19.136078] [G loss: 310790.968750] time: 0:07:54.156477\n",
      "[Epoch 21/100]  [mse: 23.323022] [G loss: 333312.062500] time: 0:08:17.056980\n",
      "[Epoch 22/100]  [mse: 25.055055] [G loss: 381291.656250] time: 0:08:39.880094\n",
      "[Epoch 23/100]  [mse: 22.902913] [G loss: 343601.906250] time: 0:09:02.665718\n",
      "[Epoch 24/100]  [mse: 24.611592] [G loss: 386343.218750] time: 0:09:25.539070\n",
      "[Epoch 25/100]  [mse: 24.347093] [G loss: 380859.500000] time: 0:09:48.526161\n",
      "[Epoch 26/100]  [mse: 21.561535] [G loss: 258648.671875] time: 0:10:12.268601\n",
      "[Epoch 27/100]  [mse: 24.532561] [G loss: 296832.218750] time: 0:10:35.807730\n",
      "[Epoch 28/100]  [mse: 19.358452] [G loss: 260230.609375] time: 0:10:59.060576\n",
      "[Epoch 29/100]  [mse: 25.204440] [G loss: 322248.937500] time: 0:11:22.039733\n",
      "[Epoch 30/100]  [mse: 20.784832] [G loss: 288376.406250] time: 0:11:45.147097\n",
      "[Epoch 31/100]  [mse: 24.091051] [G loss: 313655.218750] time: 0:12:08.587363\n",
      "[Epoch 32/100]  [mse: 23.179227] [G loss: 214896.125000] time: 0:12:32.418995\n",
      "[Epoch 33/100]  [mse: 25.725691] [G loss: 229492.906250] time: 0:12:55.443913\n",
      "[Epoch 34/100]  [mse: 26.499903] [G loss: 262983.125000] time: 0:13:18.567362\n",
      "[Epoch 35/100]  [mse: 21.251201] [G loss: 249701.734375] time: 0:13:41.482070\n",
      "[Epoch 36/100]  [mse: 26.188053] [G loss: 239082.093750] time: 0:14:04.423541\n",
      "[Epoch 37/100]  [mse: 23.023106] [G loss: 257214.781250] time: 0:14:27.607147\n",
      "[Epoch 38/100]  [mse: 31.608381] [G loss: 246193.953125] time: 0:14:50.648420\n",
      "[Epoch 39/100]  [mse: 28.349752] [G loss: 205504.250000] time: 0:15:13.557683\n",
      "[Epoch 40/100]  [mse: 20.718028] [G loss: 205926.078125] time: 0:15:36.403926\n",
      "[Epoch 41/100]  [mse: 17.995216] [G loss: 176717.187500] time: 0:15:59.280676\n",
      "[Epoch 42/100]  [mse: 23.575505] [G loss: 194343.843750] time: 0:16:22.110115\n",
      "[Epoch 43/100]  [mse: 23.412415] [G loss: 231676.921875] time: 0:16:44.908929\n",
      "[Epoch 44/100]  [mse: 17.763614] [G loss: 211896.062500] time: 0:17:07.782363\n",
      "[Epoch 45/100]  [mse: 18.440915] [G loss: 172554.156250] time: 0:17:30.625143\n",
      "[Epoch 46/100]  [mse: 17.604043] [G loss: 247372.421875] time: 0:17:53.673655\n",
      "[Epoch 47/100]  [mse: 18.760255] [G loss: 197567.031250] time: 0:18:16.660813\n",
      "[Epoch 48/100]  [mse: 18.423395] [G loss: 193895.906250] time: 0:18:39.667016\n",
      "[Epoch 49/100]  [mse: 19.198213] [G loss: 184714.078125] time: 0:19:02.709149\n",
      "[Epoch 50/100]  [mse: 20.503205] [G loss: 232765.484375] time: 0:19:26.087602\n",
      "[Epoch 51/100]  [mse: 25.263112] [G loss: 183854.421875] time: 0:19:50.041634\n",
      "[Epoch 52/100]  [mse: 19.115074] [G loss: 191776.859375] time: 0:20:13.924540\n",
      "[Epoch 53/100]  [mse: 18.840533] [G loss: 168855.687500] time: 0:20:37.109654\n",
      "[Epoch 54/100]  [mse: 19.592421] [G loss: 164580.562500] time: 0:21:00.192944\n",
      "[Epoch 55/100]  [mse: 19.332588] [G loss: 171081.406250] time: 0:21:23.870492\n",
      "[Epoch 56/100]  [mse: 20.928459] [G loss: 170611.281250] time: 0:21:47.984399\n",
      "[Epoch 57/100]  [mse: 23.523216] [G loss: 201149.250000] time: 0:22:14.400688\n",
      "[Epoch 58/100]  [mse: 18.325374] [G loss: 160494.468750] time: 0:22:38.106166\n",
      "[Epoch 59/100]  [mse: 18.076582] [G loss: 155132.687500] time: 0:23:01.478689\n",
      "[Epoch 60/100]  [mse: 20.200415] [G loss: 180941.437500] time: 0:23:25.700993\n",
      "[Epoch 61/100]  [mse: 19.490886] [G loss: 161700.296875] time: 0:23:49.495287\n",
      "[Epoch 62/100]  [mse: 19.020918] [G loss: 184681.578125] time: 0:24:13.092587\n",
      "[Epoch 63/100]  [mse: 19.054780] [G loss: 150129.718750] time: 0:24:36.897431\n",
      "[Epoch 64/100]  [mse: 19.185161] [G loss: 207015.812500] time: 0:24:59.900567\n",
      "[Epoch 65/100]  [mse: 17.456808] [G loss: 156954.671875] time: 0:25:22.843358\n",
      "[Epoch 66/100]  [mse: 18.883445] [G loss: 183021.609375] time: 0:25:45.831356\n",
      "[Epoch 67/100]  [mse: 20.384156] [G loss: 192499.093750] time: 0:26:08.830334\n",
      "[Epoch 68/100]  [mse: 23.206747] [G loss: 199486.875000] time: 0:26:31.725312\n",
      "[Epoch 69/100]  [mse: 20.681147] [G loss: 187835.453125] time: 0:26:54.696702\n",
      "[Epoch 70/100]  [mse: 21.700098] [G loss: 218082.828125] time: 0:27:17.636239\n",
      "[Epoch 71/100]  [mse: 17.918349] [G loss: 174134.859375] time: 0:27:40.737837\n",
      "[Epoch 72/100]  [mse: 17.931541] [G loss: 186399.312500] time: 0:28:03.787640\n",
      "[Epoch 73/100]  [mse: 22.597135] [G loss: 158219.421875] time: 0:28:27.071174\n",
      "[Epoch 74/100]  [mse: 21.499254] [G loss: 164858.609375] time: 0:28:50.536739\n",
      "[Epoch 75/100]  [mse: 21.000472] [G loss: 155431.625000] time: 0:29:13.730999\n",
      "[Epoch 76/100]  [mse: 19.247212] [G loss: 163927.312500] time: 0:29:36.845028\n",
      "[Epoch 77/100]  [mse: 18.414484] [G loss: 149927.640625] time: 0:30:00.071618\n",
      "[Epoch 78/100]  [mse: 30.506841] [G loss: 160062.781250] time: 0:30:23.224007\n",
      "[Epoch 79/100]  [mse: 17.388558] [G loss: 207905.203125] time: 0:30:47.015868\n",
      "[Epoch 80/100]  [mse: 21.673001] [G loss: 191119.437500] time: 0:31:10.190899\n",
      "[Epoch 81/100]  [mse: 19.938730] [G loss: 157687.437500] time: 0:31:34.001247\n",
      "[Epoch 82/100]  [mse: 16.530857] [G loss: 254272.375000] time: 0:31:57.548678\n",
      "[Epoch 83/100]  [mse: 20.355010] [G loss: 190331.562500] time: 0:32:20.880838\n",
      "[Epoch 84/100]  [mse: 16.844092] [G loss: 270924.218750] time: 0:32:44.181388\n",
      "[Epoch 85/100]  [mse: 19.627129] [G loss: 192247.156250] time: 0:33:07.602766\n",
      "[Epoch 86/100]  [mse: 19.649715] [G loss: 161077.078125] time: 0:33:30.367107\n",
      "[Epoch 87/100]  [mse: 19.668043] [G loss: 186223.140625] time: 0:33:53.198852\n",
      "[Epoch 88/100]  [mse: 19.357344] [G loss: 190569.046875] time: 0:34:16.414553\n",
      "[Epoch 89/100]  [mse: 21.195379] [G loss: 185494.453125] time: 0:34:39.527069\n",
      "[Epoch 90/100]  [mse: 18.757731] [G loss: 164544.359375] time: 0:35:02.374825\n",
      "[Epoch 91/100]  [mse: 21.167358] [G loss: 162007.046875] time: 0:35:25.523786\n",
      "[Epoch 92/100]  [mse: 19.585007] [G loss: 204551.015625] time: 0:35:49.169944\n",
      "[Epoch 93/100]  [mse: 18.301819] [G loss: 154080.734375] time: 0:36:12.056728\n",
      "[Epoch 94/100]  [mse: 17.941354] [G loss: 149744.203125] time: 0:36:34.786063\n",
      "[Epoch 95/100]  [mse: 16.653547] [G loss: 172093.343750] time: 0:36:57.501174\n",
      "[Epoch 96/100]  [mse: 19.568199] [G loss: 177833.531250] time: 0:37:20.743799\n",
      "[Epoch 97/100]  [mse: 20.677237] [G loss: 164610.000000] time: 0:37:43.772157\n",
      "[Epoch 98/100]  [mse: 19.559802] [G loss: 146309.109375] time: 0:38:06.776510\n",
      "[Epoch 99/100]  [mse: 18.211659] [G loss: 186988.312500] time: 0:38:30.865282\n",
      "[Epoch 100/100]  [mse: 17.748093] [G loss: 145409.593750] time: 0:38:54.536013\n"
     ]
    }
   ],
   "source": [
    "train(X_train, epochs=100, batch_size=MAX_BATCH_SIZE, learn_rate=learn_rate)"
   ]
  },
  {
   "cell_type": "code",
   "execution_count": null,
   "metadata": {},
   "outputs": [],
   "source": [
    "# unet.save_weights('./model/dataRecorvey20191109/runet_10_rmse11.97.h5')\n",
    "# unet.load_weights('./model/RUnet/unet_60epoch_18rmse.h5')"
   ]
  },
  {
   "cell_type": "code",
   "execution_count": 33,
   "metadata": {},
   "outputs": [
    {
     "data": {
      "text/plain": [
       "17.748092773743007"
      ]
     },
     "execution_count": 33,
     "metadata": {},
     "output_type": "execute_result"
    }
   ],
   "source": [
    "# test_masked_tmp = deepcopy(X_test)\n",
    "# test_true_volume_tmp = deepcopy(X_test[:, :, :, :1])\n",
    "\n",
    "# test_length_tmp = len(X_test)\n",
    "# rand_mask_tmp = random_mask(matrix_length, matrix_length, size=rand_size, channels=channel_num, smooth_time=smooth_time, type=mask_type, block_size=block_size)\n",
    "# test_mask_tmp = np.stack([rand_mask_tmp for _ in range(test_length_tmp)], axis=0)\n",
    "\n",
    "# test_traffic_mean_tmp = X_test[test_mask_tmp==1].mean()\n",
    "# test_masked_tmp[test_mask_tmp==0] = test_traffic_mean_tmp\n",
    "# test_history_volume_tmp = deepcopy(test_masked_tmp)\n",
    "\n",
    "\n",
    "# y_pred = unet.predict(test_history_volume_tmp)\n",
    "\n",
    "# # 仅对缺失数据进行l2评价。（对预测来说既对第一层进行评价，验证）\n",
    "# y_true = (1-test_mask[:,:,:,:1])*test_true_volume_tmp\n",
    "# y_pred = (1-test_mask[:,:,:,:1])*y_pred\n",
    "\n",
    "\n",
    "y_pred = unet.predict(test_history_volume)\n",
    "\n",
    "# 仅对缺失数据进行l2评价。（对预测来说既对第一层进行评价，验证）\n",
    "y_true = (1-test_mask[:,:,:,:1])*test_true_volume\n",
    "y_pred = (1-test_mask[:,:,:,:1])*y_pred\n",
    "\n",
    "l2(y_true, y_pred)"
   ]
  },
  {
   "cell_type": "code",
   "execution_count": null,
   "metadata": {},
   "outputs": [],
   "source": [
    "y_pred"
   ]
  },
  {
   "cell_type": "code",
   "execution_count": 34,
   "metadata": {},
   "outputs": [
    {
     "data": {
      "image/png": "[encoded data removed]",
      "text/plain": [
       "<matplotlib.figure.Figure at 0x2310b5e5c88>"
      ]
     },
     "metadata": {},
     "output_type": "display_data"
    }
   ],
   "source": [
    "posX = 1\n",
    "posY = 1\n",
    "startX = 500\n",
    "gapX = 200\n",
    "\n",
    "y = test_true_volume[:, posX, posY, :][startX: startX+gapX]\n",
    "\n",
    "yf = y_pred[:, posX, posY, :][startX: startX+gapX]\n",
    "\n",
    "import matplotlib as mpl\n",
    "import matplotlib.pyplot as plt\n",
    "\n",
    "\n",
    "x = np.linspace(0, len(y), len(y))\n",
    "fig, ax = plt.subplots(figsize=(25, 8))\n",
    "lines = plt.plot(x, yf, 'k^--', x, y, 'ro-',linewidth=1, markersize=6)\n",
    "plt.show()"
   ]
  },
  {
   "cell_type": "code",
   "execution_count": null,
   "metadata": {},
   "outputs": [],
   "source": [
    "y_pred"
   ]
  },
  {
   "cell_type": "code",
   "execution_count": null,
   "metadata": {},
   "outputs": [],
   "source": [
    "import matplotlib as mpl\n",
    "import matplotlib.pyplot as plt\n",
    "\n",
    "start_time = 1600\n",
    "y = y_true.reshape(-1,)[start_time: start_time+100]\n",
    "x = np.linspace(0, len(y), len(y))\n",
    "\n",
    "yi = y_pred.reshape(-1,)[start_time: start_time+100]\n",
    "xi = np.linspace(0, len(yi), len(yi))\n",
    "fig, ax = plt.subplots(figsize=(25, 10))\n",
    "# ax.plot(x, y, '.', linewidth=1, markersize=10)\n",
    "lines = plt.plot(xi, yi, 'k^--', x, y, 'ro-',linewidth=1, markersize=6)\n",
    "plt.show()"
   ]
  },
  {
   "cell_type": "code",
   "execution_count": null,
   "metadata": {},
   "outputs": [],
   "source": [
    "yi = l2_validation\n",
    "xi = np.linspace(0, len(yi), len(yi))\n",
    "fig, ax = plt.subplots(figsize=(6, 6))\n",
    "lines = plt.plot(xi, yi, 'k^--', linewidth=1, markersize=6)\n",
    "plt.show()"
   ]
  },
  {
   "cell_type": "code",
   "execution_count": null,
   "metadata": {},
   "outputs": [],
   "source": [
    "y = lr_step\n",
    "x = np.linspace(0, len(y), len(y))\n",
    "fig, ax = plt.subplots(figsize=(6, 6))\n",
    "lines = plt.plot(x, y, 'ko-', linewidth=1, markersize=6)"
   ]
  },
  {
   "cell_type": "code",
   "execution_count": null,
   "metadata": {},
   "outputs": [],
   "source": [
    "start_time = 3600\n",
    "y = y_true.reshape(-1,)[start_time: start_time+100]\n",
    "x = np.linspace(0, len(y), len(y))\n",
    "\n",
    "yi = y_pred.reshape(-1,)[start_time: start_time+100]\n",
    "xi = np.linspace(0, len(yi), len(yi))\n",
    "fig, ax = plt.subplots(figsize=(25, 6))\n",
    "# ax.plot(x, y, '.', linewidth=1, markersize=10)\n",
    "lines = plt.plot(xi, yi, 'k^--', x, y, 'ro-',linewidth=1, markersize=6)\n",
    "plt.show()"
   ]
  },
  {
   "cell_type": "code",
   "execution_count": null,
   "metadata": {},
   "outputs": [],
   "source": [
    "start_time = 0\n",
    "y = y_true.reshape(-1,)[start_time: start_time+100]\n",
    "x = np.linspace(0, len(y), len(y))\n",
    "\n",
    "yi = y_pred.reshape(-1,)[start_time: start_time+100]\n",
    "xi = np.linspace(0, len(yi), len(yi))\n",
    "fig, ax = plt.subplots(figsize=(25, 6))\n",
    "# ax.plot(x, y, '.', linewidth=1, markersize=10)\n",
    "lines = plt.plot(xi, yi, 'k^--', x, y, 'ro-',linewidth=1, markersize=6)\n",
    "plt.show()"
   ]
  },
  {
   "cell_type": "code",
   "execution_count": null,
   "metadata": {},
   "outputs": [],
   "source": [
    "y_pred"
   ]
  },
  {
   "cell_type": "code",
   "execution_count": null,
   "metadata": {},
   "outputs": [],
   "source": [
    "test_true_volume"
   ]
  }
 ],
 "metadata": {
  "kernelspec": {
   "display_name": "Python 3",
   "language": "python",
   "name": "python3"
  },
  "language_info": {
   "codemirror_mode": {
    "name": "ipython",
    "version": 3
   },
   "file_extension": ".py",
   "mimetype": "text/x-python",
   "name": "python",
   "nbconvert_exporter": "python",
   "pygments_lexer": "ipython3",
   "version": "3.6.4"
  }
 },
 "nbformat": 4,
 "nbformat_minor": 1
}
