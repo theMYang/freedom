{
 "cells": [
  {
   "cell_type": "code",
   "execution_count": 1,
   "metadata": {},
   "outputs": [],
   "source": [
    "import numpy as np\n",
    "import pandas as pd\n",
    "\n",
    "from tqdm import tqdm_notebook"
   ]
  },
  {
   "cell_type": "code",
   "execution_count": null,
   "metadata": {},
   "outputs": [],
   "source": [
    "matrix_len = 32\n",
    "pixel_num = matrix_len*matrix_len"
   ]
  },
  {
   "cell_type": "code",
   "execution_count": null,
   "metadata": {},
   "outputs": [],
   "source": [
    "trafficV = pd.read_csv('./data/trafficV201303.csv')\n",
    "trafficV = trafficV.sort_values(['Time', 'yCoordinate', 'xCoordinate'])"
   ]
  },
  {
   "cell_type": "code",
   "execution_count": null,
   "metadata": {},
   "outputs": [],
   "source": [
    "col = ['time'] + ['pixel{}'.format(i) for i in range(pixel_num)] \n",
    "matrix_df = pd.DataFrame(columns=col)\n",
    "matrix_df"
   ]
  },
  {
   "cell_type": "code",
   "execution_count": null,
   "metadata": {},
   "outputs": [],
   "source": [
    "times = int(trafficV.shape[0]/pixel_num)\n",
    "\n",
    "for i in tqdm_notebook(range(times)):\n",
    "    #处理当前时间index\n",
    "    time_start = pixel_num*i\n",
    "    time_end = pixel_num*(i+1)\n",
    "    \n",
    "    #当前时间，用于assert\n",
    "    cur_time = trafficV.iloc[time_start]['Time']\n",
    "    assert (trafficV[time_start:time_end]['Time'] == cur_time).all()\n",
    "    \n",
    "    #将各点flow扔进pixel\n",
    "    row_info_list = [cur_time] + trafficV[time_start:time_end]['Flow'].tolist()\n",
    "    row_info_dict = dict(zip(col, row_info_list))\n",
    "    matrix_df.loc[matrix_df.shape[0]+1] = row_info_dict\n"
   ]
  },
  {
   "cell_type": "code",
   "execution_count": null,
   "metadata": {},
   "outputs": [],
   "source": [
    "matrix_df.shape"
   ]
  },
  {
   "cell_type": "code",
   "execution_count": null,
   "metadata": {},
   "outputs": [],
   "source": [
    "#检验是否每个日期仅处理过一次\n",
    "assert (matrix_df.shape[0] == matrix_df['time'].nunique())\n",
    "assert matrix_df['time'].nunique() == times\n",
    "\n",
    "# matrix_df = matrix_df.drop_duplicates()"
   ]
  },
  {
   "cell_type": "code",
   "execution_count": null,
   "metadata": {},
   "outputs": [],
   "source": [
    "matrix_df['time'] = pd.to_datetime(matrix_df['time'])\n",
    "matrix_df.set_index('time', inplace=True)"
   ]
  },
  {
   "cell_type": "code",
   "execution_count": null,
   "metadata": {},
   "outputs": [],
   "source": [
    "# matrix_df.to_csv('./data/trafficV201303_M.csv')"
   ]
  },
  {
   "cell_type": "code",
   "execution_count": null,
   "metadata": {},
   "outputs": [],
   "source": [
    "matrix_df = pd.read_csv('./data/trafficV201303_M.csv', index_col=0, parse_dates=True)\n",
    "matrix_df.shape"
   ]
  },
  {
   "cell_type": "code",
   "execution_count": null,
   "metadata": {},
   "outputs": [],
   "source": [
    "matrix_df"
   ]
  },
  {
   "cell_type": "code",
   "execution_count": null,
   "metadata": {},
   "outputs": [],
   "source": [
    "# idx = trafficV[trafficV['Time'] == '2013-01-31 03:30:00'].index\n",
    "# matrix_pic = trafficV.loc[idx].sort_values(['yCoordinate', 'xCoordinate'])\n",
    "# matrix_test = np.zeros(matrix_len*matrix_len)\n",
    "# matrix_test = matrix_pic['Flow']\n",
    "# matrix_test.reshape((matrix_len, matrix_len))"
   ]
  },
  {
   "cell_type": "code",
   "execution_count": 2,
   "metadata": {},
   "outputs": [],
   "source": [
    "# matrix_df = pd.read_csv('./data/trafficV201301_M.csv', index_col=0, parse_dates=True)\n",
    "# temp_df = pd.read_csv('./data/trafficV201302_M.csv', index_col=0, parse_dates=True)\n",
    "# matrix_df = pd.concat([matrix_df, temp_df], axis=0)\n",
    "# temp_df = pd.read_csv('./data/trafficV201303_M.csv', index_col=0, parse_dates=True)\n",
    "# matrix_df = pd.concat([matrix_df, temp_df], axis=0)\n",
    "\n",
    "# matrix_df.to_csv('./data/trafficV_M.csv')"
   ]
  }
 ],
 "metadata": {
  "kernelspec": {
   "display_name": "Python 3",
   "language": "python",
   "name": "python3"
  },
  "language_info": {
   "codemirror_mode": {
    "name": "ipython",
    "version": 3
   },
   "file_extension": ".py",
   "mimetype": "text/x-python",
   "name": "python",
   "nbconvert_exporter": "python",
   "pygments_lexer": "ipython3",
   "version": "3.6.4"
  }
 },
 "nbformat": 4,
 "nbformat_minor": 2
}
